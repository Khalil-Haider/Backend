{
 "cells": [
  {
   "cell_type": "markdown",
   "id": "a8851eaf",
   "metadata": {},
   "source": [
    "## what is API and How It works"
   ]
  },
  {
   "cell_type": "markdown",
   "id": "0cc26a19",
   "metadata": {},
   "source": [
    "![what is api](https://github.com/Khalil-Haider/Backend/raw/main/Fastapi/fastapi_svg_image/WHAT%20IS%20api.jpg)"
   ]
  },
  {
   "cell_type": "markdown",
   "id": "b548eabc",
   "metadata": {},
   "source": [
    "## FastApi"
   ]
  },
  {
   "cell_type": "markdown",
   "id": "871168e2",
   "metadata": {},
   "source": [
    "![FastAPI](https://github.com/Khalil-Haider/Backend/raw/main/Fastapi/fastapi_svg_image/fastapi.svg)"
   ]
  },
  {
   "cell_type": "markdown",
   "id": "3cf1fb8b",
   "metadata": {},
   "source": [
    "## FastAPI implementation"
   ]
  },
  {
   "cell_type": "markdown",
   "id": "e0710076",
   "metadata": {},
   "source": [
    "![FastAPI implementation](https://github.com/Khalil-Haider/Backend/raw/main/Fastapi/fastapi_svg_image/fastapi%20implementation.jpg)"
   ]
  },
  {
   "cell_type": "markdown",
   "id": "7abaddb1",
   "metadata": {},
   "source": [
    "## Project standard structure "
   ]
  },
  {
   "cell_type": "markdown",
   "id": "5791d8f8",
   "metadata": {},
   "source": [
    "### simple"
   ]
  },
  {
   "cell_type": "markdown",
   "id": "4a679b1c",
   "metadata": {},
   "source": [
    "![Simple STR](https://github.com/Khalil-Haider/Backend/raw/main/Fastapi/fastapi_svg_image/simple_fastapi_project_str.svg)"
   ]
  },
  {
   "cell_type": "markdown",
   "id": "9d3b7786",
   "metadata": {},
   "source": [
    "### complex"
   ]
  },
  {
   "cell_type": "markdown",
   "id": "033f8668",
   "metadata": {},
   "source": [
    "# 📂 FastAPI Project Structure\n",
    "\n",
    "```bash\n",
    "my_fastapi_project/\n",
    "├── app/\n",
    "│   ├── __init__.py\n",
    "│   ├── main.py                 # FastAPI app entry point\n",
    "│   ├── core/\n",
    "│   │   ├── __init__.py\n",
    "│   │   ├── config.py            # Configuration settings\n",
    "│   │   ├── security.py          # Authentication & authorization\n",
    "│   │   └── database.py          # Database connection\n",
    "│   ├── api/\n",
    "│   │   ├── __init__.py\n",
    "│   │   ├── deps.py              # Dependencies\n",
    "│   │   └── v1/\n",
    "│   │       ├── __init__.py\n",
    "│   │       ├── api.py           # API router\n",
    "│   │       └── endpoints/\n",
    "│   │           ├── __init__.py\n",
    "│   │           ├── users.py     # User endpoints\n",
    "│   │           ├── items.py     # Item endpoints\n",
    "│   │           └── auth.py      # Authentication endpoints\n",
    "│   ├── models/\n",
    "│   │   ├── __init__.py\n",
    "│   │   ├── user.py              # User model\n",
    "│   │   ├── item.py              # Item model\n",
    "│   │   └── base.py              # Base model class\n",
    "│   ├── schemas/\n",
    "│   │   ├── __init__.py\n",
    "│   │   ├── user.py              # User Pydantic schemas\n",
    "│   │   ├── item.py              # Item Pydantic schemas\n",
    "│   │   └── token.py             # Token schemas\n",
    "│   ├── crud/\n",
    "│   │   ├── __init__.py\n",
    "│   │   ├── base.py              # Base CRUD operations\n",
    "│   │   ├── user.py              # User CRUD operations\n",
    "│   │   └── item.py              # Item CRUD operations\n",
    "│   ├── services/\n",
    "│   │   ├── __init__.py\n",
    "│   │   ├── user_service.py      # User business logic\n",
    "│   │   └── email_service.py     # Email service\n",
    "│   ├── utils/\n",
    "│   │   ├── __init__.py\n",
    "│   │   └── helpers.py           # Utility functions\n",
    "│   └── tests/\n",
    "│       ├── __init__.py\n",
    "│       ├── conftest.py          # Test configuration\n",
    "│       ├── test_main.py         # Main app tests\n",
    "│       └── api/\n",
    "│           ├── __init__.py\n",
    "│           └── test_users.py    # User endpoint tests\n",
    "├── alembic/                     # Database migrations\n",
    "│   ├── versions/\n",
    "│   ├── env.py\n",
    "│   └── script.py.mako\n",
    "├── alembic.ini\n",
    "├── requirements.txt\n",
    "├── .env                         # Environment variables\n",
    "├── .gitignore\n",
    "├── Dockerfile\n",
    "├── docker-compose.yml\n",
    "└── README.md\n"
   ]
  },
  {
   "cell_type": "markdown",
   "id": "d85380f0",
   "metadata": {},
   "source": [
    "## Http Method"
   ]
  },
  {
   "cell_type": "markdown",
   "id": "e1afb185",
   "metadata": {},
   "source": [
    "![HTTP Method](https://github.com/Khalil-Haider/Backend/raw/main/Fastapi/fastapi_svg_image/https_method.svg)"
   ]
  },
  {
   "cell_type": "markdown",
   "id": "ef74025b",
   "metadata": {},
   "source": [
    "## Core API Data Input Method "
   ]
  },
  {
   "cell_type": "markdown",
   "id": "9adb1661",
   "metadata": {},
   "source": [
    "![Core Api Concept](https://github.com/Khalil-Haider/Backend/raw/main/Fastapi/fastapi_svg_image/Core_API_concept.svg)"
   ]
  },
  {
   "cell_type": "markdown",
   "id": "795795c7",
   "metadata": {},
   "source": [
    "## FastAPI_parameter_tools_classes"
   ]
  },
  {
   "cell_type": "markdown",
   "id": "52e9259d",
   "metadata": {},
   "source": [
    "![FastAPI_parameter_tools_classes](https://github.com/Khalil-Haider/Backend/raw/main/Fastapi/fastapi_svg_image/FastAPI_parameter_tools_classes.svg)"
   ]
  },
  {
   "cell_type": "markdown",
   "id": "d8a23745",
   "metadata": {},
   "source": [
    "# Htts Status code "
   ]
  },
  {
   "cell_type": "markdown",
   "id": "76a224b6",
   "metadata": {},
   "source": [
    "![http_status_code](https://github.com/Khalil-Haider/Backend/raw/main/Fastapi/fastapi_svg_image/http_status_code.svg)"
   ]
  },
  {
   "cell_type": "markdown",
   "id": "3b87771b",
   "metadata": {},
   "source": [
    "## FastAPi data validation"
   ]
  },
  {
   "cell_type": "markdown",
   "id": "204db1f9",
   "metadata": {},
   "source": [
    "![data_validation](https://github.com/Khalil-Haider/Backend/raw/main/Fastapi/fastapi_svg_image/data_validation.svg)"
   ]
  },
  {
   "cell_type": "markdown",
   "id": "58765fbb",
   "metadata": {},
   "source": [
    "### path Parameter"
   ]
  },
  {
   "cell_type": "markdown",
   "id": "2140a91d",
   "metadata": {},
   "source": [
    "**PATH OPERATIONS & ROUTING**\n",
    "\n",
    "| Concept | Description | Example | Notes |\n",
    "|---------|-------------|---------|-------|\n",
    "| **Static Paths** | Fixed URL segments | `@app.get(\"/users/\")` | Exact match required |\n",
    "| **Path Parameters** | Dynamic URL segments | `@app.get(\"/users/{user_id}\")` | Captured as function parameters |\n",
    "| **Path Parameter Types** | Type conversion for path params | `@app.get(\"/items/{item_id:int}\")` | Built-in converters |\n",
    "| **Multiple Path Parameters** | Multiple dynamic segments | `@app.get(\"/users/{user_id}/items/{item_id}\")` | Order matters in function signature |\n",
    "| **Path Parameter Validation** | Constraints on path params | `Path(..., gt=0, le=1000)` | Using Path() function |\n",
    "| **Wildcard Paths** | Catch-all path segments | `@app.get(\"/files/{file_path:path}\")` | Captures remaining path |"
   ]
  },
  {
   "cell_type": "markdown",
   "id": "658a529c",
   "metadata": {},
   "source": [
    "#### Static Paths\n",
    "**Fixed URL segments that never change**"
   ]
  },
  {
   "cell_type": "markdown",
   "id": "6c4b6241",
   "metadata": {},
   "source": [
    "**Key Points:**\n",
    "\n",
    "- URL must match exactly\n",
    "- No dynamic parts\n",
    "- Simple and predictable\n",
    "- Each decorator (@pp.) corresponds to an HTTP method\n",
    "- Functions define what happens when endpoint is called\n",
    "- Return values are automatically converted to JSON"
   ]
  },
  {
   "cell_type": "code",
   "execution_count": null,
   "id": "2ed33d08",
   "metadata": {},
   "outputs": [],
   "source": [
    "@app.get(\"/users\")\n",
    "def get_users():\n",
    "    return {\"users\": [\"alice\", \"bob\", \"charlie\"]}"
   ]
  },
  {
   "cell_type": "markdown",
   "id": "ffe8d018",
   "metadata": {},
   "source": [
    "#### Path Parameters\n",
    "**Dynamic parts of the URL captured as variables**"
   ]
  },
  {
   "cell_type": "markdown",
   "id": "4243af50",
   "metadata": {},
   "source": [
    "**Key Points:**\n",
    "\n",
    "- Curly braces `{}` define dynamic segments\n",
    "- Parameter name must match function argument\n",
    "- Default type is string"
   ]
  },
  {
   "cell_type": "code",
   "execution_count": null,
   "id": "ef4c3926",
   "metadata": {},
   "outputs": [],
   "source": [
    "@app.get(\"/users/{user_id}\")\n",
    "def get_user(user_id: str):\n",
    "    return {\"user_id\": user_id}"
   ]
  },
  {
   "cell_type": "markdown",
   "id": "eec8c372",
   "metadata": {},
   "source": [
    "#### Path Parameter Types\n",
    "**Type conversion for path parameters**"
   ]
  },
  {
   "cell_type": "code",
   "execution_count": null,
   "id": "3c42004a",
   "metadata": {},
   "outputs": [],
   "source": [
    "@app.get(\"/users/{user_id}\")\n",
    "def get_user(user_id: int):  # Automatically converts to int\n",
    "    return {\"user_id\": user_id, \"type\": type(user_id).__name__}\n",
    "\n",
    "@app.get(\"/items/{item_id}\")\n",
    "def get_item(item_id: int):\n",
    "    return {\"item_id\": item_id}\n",
    "\n",
    "# Built-in type converters\n",
    "@app.get(\"/files/{file_id}\")\n",
    "def get_file(file_id: float):\n",
    "    return {\"file_id\": file_id}"
   ]
  },
  {
   "cell_type": "markdown",
   "id": "1b0e7777",
   "metadata": {},
   "source": [
    "\n",
    "\n",
    "**Common Types:**\n",
    "- `int` - Integer numbers\n",
    "- `float` - Decimal numbers  \n",
    "- `str` - Strings (default)\n",
    "- `bool` - Boolean values"
   ]
  },
  {
   "cell_type": "markdown",
   "id": "c09613e2",
   "metadata": {},
   "source": [
    "#### Multiple Path Parameters\n",
    "**Multiple dynamic segments in one path**"
   ]
  },
  {
   "cell_type": "code",
   "execution_count": null,
   "id": "2571454c",
   "metadata": {},
   "outputs": [],
   "source": [
    "@app.get(\"/users/{user_id}/items/{item_id}\")\n",
    "def get_user_item(user_id: int, item_id: int):\n",
    "    return {\n",
    "        \"user_id\": user_id,\n",
    "        \"item_id\": item_id,\n",
    "        \"message\": f\"Item {item_id} for user {user_id}\"\n",
    "    }"
   ]
  },
  {
   "cell_type": "markdown",
   "id": "960f0d41",
   "metadata": {},
   "source": [
    "**Key Points:**\n",
    "- Order of parameters matters\n",
    "- Each parameter gets its own function argument\n",
    "- Mix different types as needed"
   ]
  },
  {
   "cell_type": "markdown",
   "id": "4829ca33",
   "metadata": {},
   "source": [
    "#### Path Parameter Validation\n",
    "**Adding constraints and validation to path parameters**"
   ]
  },
  {
   "cell_type": "code",
   "execution_count": null,
   "id": "57103e50",
   "metadata": {},
   "outputs": [],
   "source": [
    "from fastapi import Path\n",
    "\n",
    "@app.get(\"/items/{item_id}\")\n",
    "def get_item(\n",
    "    item_id: int = Path(..., gt=0, description=\"The ID of the item\")\n",
    "):\n",
    "    return {\"item_id\": item_id}\n",
    "\n",
    "@app.get(\"/products/{product_name}\")\n",
    "def get_product(\n",
    "    product_name: str = Path(..., min_length=3, max_length=50)\n",
    "):\n",
    "    return {\"product_name\": product_name}"
   ]
  },
  {
   "cell_type": "markdown",
   "id": "7a2cb2f8",
   "metadata": {},
   "source": [
    "**Validation Options:**\n",
    "- `gt` - Greater than\n",
    "- `ge` - Greater than or equal\n",
    "- `lt` - Less than\n",
    "- `le` - Less than or equal\n",
    "- `min_length` - Minimum string length\n",
    "- `max_length` - Maximum string length"
   ]
  },
  {
   "cell_type": "markdown",
   "id": "fbded980",
   "metadata": {},
   "source": [
    "#### Wildcard Paths\n",
    "**Capture remaining path segments**"
   ]
  },
  {
   "cell_type": "code",
   "execution_count": null,
   "id": "1eef2159",
   "metadata": {},
   "outputs": [],
   "source": [
    "@app.get(\"/files/{file_path:path}\")\n",
    "def get_file(file_path: str):\n",
    "    return {\"file_path\": file_path}\n",
    "\n",
    "# Examples of what this matches:\n",
    "# /files/documents/report.pdf → file_path = \"documents/report.pdf\"\n",
    "# /files/images/photos/vacation.jpg → file_path = \"images/photos/vacation.jpg\""
   ]
  },
  {
   "cell_type": "markdown",
   "id": "a19279ca",
   "metadata": {},
   "source": [
    "**Key Points:**\n",
    "- `:path` captures everything including forward slashes\n",
    "- Useful for file systems or nested resources\n",
    "- Always comes at the end of the path"
   ]
  },
  {
   "cell_type": "markdown",
   "id": "c28e0ab3",
   "metadata": {},
   "source": [
    "#### Path Operation Order\n",
    "**Order matters when defining similar paths**"
   ]
  },
  {
   "cell_type": "code",
   "execution_count": null,
   "id": "b1b06939",
   "metadata": {},
   "outputs": [],
   "source": [
    "# ✅ CORRECT ORDER - Specific first\n",
    "@app.get(\"/users/me\")           # Static - matches first\n",
    "def get_current_user():\n",
    "    return {\"user\": \"current_user\"}\n",
    "\n",
    "@app.get(\"/users/{user_id}\")    # Dynamic - matches after\n",
    "def get_user(user_id: int):\n",
    "    return {\"user_id\": user_id}\n",
    "\n",
    "# ❌ WRONG ORDER - Dynamic would catch everything\n",
    "# @app.get(\"/users/{user_id}\")  # This would match \"/users/me\" too!\n",
    "# @app.get(\"/users/me\")         # This would never be reached"
   ]
  },
  {
   "cell_type": "markdown",
   "id": "9364c170",
   "metadata": {},
   "source": [
    "**Key Rule:** \n",
    "- Define more specific paths before general ones"
   ]
  },
  {
   "cell_type": "markdown",
   "id": "aeee0146",
   "metadata": {},
   "source": [
    "### Query parameter"
   ]
  },
  {
   "cell_type": "markdown",
   "id": "5661ec5c",
   "metadata": {},
   "source": [
    "**QUERY PARAMETERS**\n",
    "\n",
    "| Concept | Description | Example | Default Behavior |\n",
    "|---------|-------------|---------|------------------|\n",
    "| **Basic Query Parameters** | URL parameters after ? | `def read_items(skip: int = 0):` | Optional with default values |\n",
    "| **Required Query Parameters** | Mandatory query params | `def read_items(q: str):` | No default value = required |\n",
    "| **Multiple Query Parameters** | Several query params | `def read_items(q: str, skip: int = 0, limit: int = 10):` | Combined in any order |\n",
    "| **Query Parameter Types** | Type conversion | `skip: int`, `active: bool` | Automatic validation |\n",
    "| **Query Parameter Validation** | Constraints on query params | `Query(..., min_length=3, max_length=50)` | Using Query() function |\n",
    "| **Optional Query Parameters** | Nullable parameters | `q: Optional[str] = None` | Union types |\n",
    "| **List Query Parameters** | Multiple values for same param | `tags: List[str] = Query([])` | ?tags=foo&tags=bar |"
   ]
  },
  {
   "cell_type": "markdown",
   "id": "9b9ff78d",
   "metadata": {},
   "source": [
    "#### Basic Query Parameters\n",
    "\n",
    "**URL parameters that come after the `?` symbol**"
   ]
  },
  {
   "cell_type": "code",
   "execution_count": null,
   "id": "68054df4",
   "metadata": {},
   "outputs": [],
   "source": [
    "\n",
    "@app.get(\"/items/\")\n",
    "def read_items(skip: int = 0, limit: int = 10):\n",
    "    return {\"skip\": skip, \"limit\": limit}\n",
    "\n",
    "# URL: /items/?skip=5&limit=20\n",
    "# Result: {\"skip\": 5, \"limit\": 20}"
   ]
  },
  {
   "cell_type": "markdown",
   "id": "ac1a9053",
   "metadata": {},
   "source": [
    "**Key Points:**\n",
    "- Query parameters appear after `?` in URL\n",
    "- Separated by `&` symbol\n",
    "- Function parameters with default values become optional query params\n",
    "- FastAPI automatically extracts and converts them"
   ]
  },
  {
   "cell_type": "markdown",
   "id": "f9d44233",
   "metadata": {},
   "source": [
    "#### Required Query Parameters\n",
    "\n",
    "**Parameters without default values are mandatory**"
   ]
  },
  {
   "cell_type": "code",
   "execution_count": null,
   "id": "f94eb913",
   "metadata": {},
   "outputs": [],
   "source": [
    "@app.get(\"/search/\")\n",
    "def search_items(q: str):  # No default = required\n",
    "    return {\"query\": q, \"message\": f\"Searching for: {q}\"}\n",
    "\n",
    "# ✅ Valid: /search/?q=python\n",
    "# ❌ Invalid: /search/ (missing required parameter)\n",
    "\n",
    "@app.get(\"/users/\")\n",
    "def get_users(country: str, city: str = \"any\"):\n",
    "    return {\"country\": country, \"city\": city}\n",
    "\n",
    "# ✅ Valid: /users/?country=USA\n",
    "# ✅ Valid: /users/?country=USA&city=NewYork\n",
    "# ❌ Invalid: /users/ (missing required 'country')"
   ]
  },
  {
   "cell_type": "markdown",
   "id": "bd346a61",
   "metadata": {},
   "source": [
    "**Key Points:**\n",
    "- No default value = required parameter\n",
    "- FastAPI returns 422 error if required params are missing\n",
    "- Mix required and optional parameters freely"
   ]
  },
  {
   "cell_type": "markdown",
   "id": "ba28c534",
   "metadata": {},
   "source": [
    "#### Multiple Query Parameters\n",
    "\n",
    "**Combine several query parameters in one endpoint**"
   ]
  },
  {
   "cell_type": "code",
   "execution_count": null,
   "id": "b1c45ec1",
   "metadata": {},
   "outputs": [],
   "source": [
    "@app.get(\"/products/\")\n",
    "def get_products(\n",
    "    category: str = \"all\",\n",
    "    min_price: float = 0.0,\n",
    "    max_price: float = 1000.0,\n",
    "    in_stock: bool = True\n",
    "):\n",
    "    return {\n",
    "        \"category\": category,\n",
    "        \"price_range\": f\"{min_price}-{max_price}\",\n",
    "        \"in_stock\": in_stock\n",
    "    }\n",
    "\n",
    "# Examples:\n",
    "# /products/\n",
    "# /products/?category=electronics\n",
    "# /products/?category=books&min_price=10&max_price=50\n",
    "# /products/?in_stock=false&category=clothing"
   ]
  },
  {
   "cell_type": "markdown",
   "id": "4018f268",
   "metadata": {},
   "source": [
    "**Key Points:**\n",
    "- Parameters can be provided in any order\n",
    "- Only provide the ones you want to change\n",
    "- All have sensible defaults"
   ]
  },
  {
   "cell_type": "markdown",
   "id": "292f9281",
   "metadata": {},
   "source": [
    "####  Query Parameter Types\n",
    "\n",
    "**Automatic type conversion and validation**"
   ]
  },
  {
   "cell_type": "code",
   "execution_count": null,
   "id": "893fdbb8",
   "metadata": {},
   "outputs": [],
   "source": [
    "@app.get(\"/filter/\")\n",
    "def filter_items(\n",
    "    page: int = 1,           # Integer\n",
    "    size: int = 10,          # Integer\n",
    "    price: float = 0.0,      # Float\n",
    "    active: bool = True,     # Boolean\n",
    "    name: str = \"\"           # String\n",
    "):\n",
    "    return {\n",
    "        \"page\": page,\n",
    "        \"size\": size, \n",
    "        \"price\": price,\n",
    "        \"active\": active,\n",
    "        \"name\": name,\n",
    "        \"types\": {\n",
    "            \"page\": type(page).__name__,\n",
    "            \"price\": type(price).__name__,\n",
    "            \"active\": type(active).__name__\n",
    "        }\n",
    "    }\n",
    "\n",
    "# Boolean examples:\n",
    "# ?active=true, ?active=True, ?active=1, ?active=yes → True\n",
    "# ?active=false, ?active=False, ?active=0, ?active=no → False"
   ]
  },
  {
   "cell_type": "markdown",
   "id": "ccd73f31",
   "metadata": {},
   "source": [
    "**Supported Types:**\n",
    "- `int` - Integers\n",
    "- `float` - Decimal numbers\n",
    "- `bool` - Boolean values (flexible parsing)\n",
    "- `str` - Strings (default)"
   ]
  },
  {
   "cell_type": "markdown",
   "id": "d247d6e5",
   "metadata": {},
   "source": [
    "#### Query Parameter Validation\n",
    "\n",
    "**Adding constraints and validation using Query()**"
   ]
  },
  {
   "cell_type": "code",
   "execution_count": null,
   "id": "6dd0abed",
   "metadata": {},
   "outputs": [],
   "source": [
    "from fastapi import Query\n",
    "\n",
    "@app.get(\"/items/\")\n",
    "def read_items(\n",
    "    q: str = Query(None, min_length=3, max_length=50),\n",
    "    page: int = Query(1, gt=0, le=100),\n",
    "    size: int = Query(10, gt=0, le=100)\n",
    "):\n",
    "    return {\"query\": q, \"page\": page, \"size\": size}\n",
    "\n",
    "@app.get(\"/search/\")\n",
    "def search(\n",
    "    keyword: str = Query(..., min_length=2, description=\"Search keyword\"),\n",
    "    category: str = Query(\"all\", regex=\"^(all|books|electronics|clothing)$\")\n",
    "):\n",
    "    return {\"keyword\": keyword, \"category\": category}"
   ]
  },
  {
   "cell_type": "markdown",
   "id": "cfeb53b7",
   "metadata": {},
   "source": [
    "**Validation Options:**\n",
    "- `min_length` / `max_length` - String length limits\n",
    "- `gt` / `ge` / `lt` / `le` - Numeric comparisons\n",
    "- `regex` - Pattern matching for strings\n",
    "- `description` - Documentation for API docs\n",
    "- `...` - Required parameter (alternative to no default)"
   ]
  },
  {
   "cell_type": "markdown",
   "id": "e2e4d6ef",
   "metadata": {},
   "source": [
    "#### Optional Query Parameters\n",
    "\n",
    "**Parameters that can be None**"
   ]
  },
  {
   "cell_type": "code",
   "execution_count": null,
   "id": "45010fe4",
   "metadata": {},
   "outputs": [],
   "source": [
    "from typing import Optional\n",
    "\n",
    "@app.get(\"/items/\")\n",
    "def read_items(\n",
    "    q: Optional[str] = None,\n",
    "    category: Optional[str] = None,\n",
    "    min_price: Optional[float] = None\n",
    "):\n",
    "    filters = {}\n",
    "    if q:\n",
    "        filters[\"search\"] = q\n",
    "    if category:\n",
    "        filters[\"category\"] = category\n",
    "    if min_price is not None:\n",
    "        filters[\"min_price\"] = min_price\n",
    "    \n",
    "    return {\"filters\": filters}\n",
    "\n",
    "# Examples:\n",
    "# /items/ → {\"filters\": {}}\n",
    "# /items/?q=python → {\"filters\": {\"search\": \"python\"}}\n",
    "# /items/?category=books&min_price=0 → {\"filters\": {\"category\": \"books\", \"min_price\": 0.0}}"
   ]
  },
  {
   "cell_type": "markdown",
   "id": "ce9af145",
   "metadata": {},
   "source": [
    "**Key Points:**\n",
    "- Use `Optional[Type]` for nullable parameters\n",
    "- Check `if value:` for strings and lists\n",
    "- Check `if value is not None:` for numbers that could be 0"
   ]
  },
  {
   "cell_type": "markdown",
   "id": "cf0a7a97",
   "metadata": {},
   "source": [
    "#### \n",
    "## 7. List Query Parameters\n",
    "\n",
    "**Accept multiple values for the same parameter**"
   ]
  },
  {
   "cell_type": "code",
   "execution_count": null,
   "id": "b3972156",
   "metadata": {},
   "outputs": [],
   "source": [
    "from typing import List\n",
    "\n",
    "@app.get(\"/items/\")\n",
    "def read_items(\n",
    "    tags: List[str] = Query([]),\n",
    "    categories: List[str] = Query([\"all\"])\n",
    "):\n",
    "    return {\"tags\": tags, \"categories\": categories}\n",
    "\n",
    "# URL Examples:\n",
    "# /items/?tags=python&tags=fastapi&tags=web\n",
    "# Result: {\"tags\": [\"python\", \"fastapi\", \"web\"], \"categories\": [\"all\"]}\n",
    "\n",
    "# Alternative syntax (some clients):\n",
    "# /items/?tags=python,fastapi,web\n",
    "\n",
    "@app.get(\"/filter/\")  \n",
    "def filter_by_ids(item_ids: List[int] = Query([])):\n",
    "    return {\"filtering_by_ids\": item_ids}\n",
    "\n",
    "# /filter/?item_ids=1&item_ids=5&item_ids=10\n",
    "# Result: {\"filtering_by_ids\": [1, 5, 10]}"
   ]
  },
  {
   "cell_type": "markdown",
   "id": "d9f0156b",
   "metadata": {},
   "source": [
    "**Key Points:**\n",
    "- Use `List[Type]` annotation\n",
    "- Same parameter name repeated in URL\n",
    "- Empty list `[]` as default for optional lists"
   ]
  },
  {
   "cell_type": "markdown",
   "id": "01a51d9e",
   "metadata": {},
   "source": [
    "#### Query vs Path Parameters\n",
    "\n",
    "**When to use each type**"
   ]
  },
  {
   "cell_type": "code",
   "execution_count": null,
   "id": "50ff7950",
   "metadata": {},
   "outputs": [],
   "source": [
    "# Path parameters - identify specific resources\n",
    "@app.get(\"/users/{user_id}/posts/{post_id}\")\n",
    "def get_user_post(user_id: int, post_id: int):\n",
    "    return {\"user_id\": user_id, \"post_id\": post_id}\n",
    "\n",
    "# Query parameters - filter, paginate, or configure\n",
    "@app.get(\"/users/{user_id}/posts/\")\n",
    "def get_user_posts(\n",
    "    user_id: int,  # Path parameter\n",
    "    published: bool = True,  # Query parameter\n",
    "    limit: int = 10  # Query parameter\n",
    "):\n",
    "    return {\n",
    "        \"user_id\": user_id,\n",
    "        \"filters\": {\"published\": published, \"limit\": limit}\n",
    "    }"
   ]
  },
  {
   "cell_type": "markdown",
   "id": "018ad3bb",
   "metadata": {},
   "source": [
    "**Guidelines:**\n",
    "- **Path parameters:** Resource identification (required, part of the URL structure)\n",
    "- **Query parameters:** Filtering, pagination, optional configuration"
   ]
  },
  {
   "cell_type": "markdown",
   "id": "9eb1efbd",
   "metadata": {},
   "source": [
    "**Best Practices:**\n",
    "- Provide sensible defaults for optional parameters\n",
    "- Use validation to prevent invalid data\n",
    "- Keep parameter names consistent across endpoints\n",
    "- Document complex parameters with descriptions\n",
    "- Use enums for limited choice parameters"
   ]
  },
  {
   "cell_type": "markdown",
   "id": "6b986de6",
   "metadata": {},
   "source": [
    "### REQUEST BODY & DATA MODELS"
   ]
  },
  {
   "cell_type": "markdown",
   "id": "026b611d",
   "metadata": {},
   "source": [
    "| Concept | Description | Example | Purpose |\n",
    "|---------|-------------|---------|---------|\n",
    "| **Pydantic Models** | Data validation and serialization | `class Item(BaseModel): name: str` | Type-safe data structures |\n",
    "| **Request Body** | JSON payload in requests | `def create_item(item: Item):` | POST/PUT/PATCH data |\n",
    "| **Nested Models** | Models within models | `class User(BaseModel): items: List[Item]` | Complex data structures |\n",
    "| **Model Validation** | Automatic data validation | Field validators, custom validators | Data integrity |\n",
    "| **Model Serialization** | Convert models to JSON | Automatic with response_model | API responses |\n",
    "| **Field Validation** | Individual field constraints | `Field(..., min_length=1, max_length=100)` | Granular validation |\n",
    "| **Custom Validators** | Custom validation logic | `@validator('email')` | Business rules |\n",
    "| **Model Config** | Model behavior configuration | `class Config: orm_mode = True` | ORM integration |"
   ]
  },
  {
   "cell_type": "markdown",
   "id": "f80af27e",
   "metadata": {},
   "source": [
    "#### Pydantic Models Basics\n",
    "\n",
    "**Type-safe data structures using Pydantic BaseModel**"
   ]
  },
  {
   "cell_type": "code",
   "execution_count": null,
   "id": "54057856",
   "metadata": {},
   "outputs": [],
   "source": [
    "from fastapi import FastAPI\n",
    "from pydantic import BaseModel\n",
    "from typing import Optional\n",
    "\n",
    "app = FastAPI()\n",
    "\n",
    "class Item(BaseModel):\n",
    "    name: str\n",
    "    description: Optional[str] = None\n",
    "    price: float\n",
    "    is_active: bool = True\n",
    "\n",
    "# Usage in endpoint\n",
    "@app.post(\"/items/\")\n",
    "def create_item(item: Item):\n",
    "    return {\"message\": f\"Created item: {item.name}\", \"item\": item}"
   ]
  },
  {
   "cell_type": "markdown",
   "id": "4b301425",
   "metadata": {},
   "source": [
    "**Key Points:**\n",
    "- Inherits from `BaseModel`\n",
    "- Type annotations define field types\n",
    "- Optional fields have default values\n",
    "- Automatic JSON validation and parsing"
   ]
  },
  {
   "cell_type": "markdown",
   "id": "f90687f0",
   "metadata": {},
   "source": [
    "#### Request Body in Different HTTP Methods\n",
    "\n",
    "**Using models in POST, PUT, and PATCH requests**"
   ]
  },
  {
   "cell_type": "code",
   "execution_count": null,
   "id": "4582def6",
   "metadata": {},
   "outputs": [],
   "source": [
    "class User(BaseModel):\n",
    "    username: str\n",
    "    email: str\n",
    "    full_name: Optional[str] = None\n",
    "    is_active: bool = True\n",
    "\n",
    "@app.post(\"/users/\")\n",
    "def create_user(user: User):\n",
    "    return {\"message\": \"User created\", \"user\": user}\n",
    "\n",
    "@app.put(\"/users/{user_id}\")\n",
    "def update_user(user_id: int, user: User):\n",
    "    return {\"user_id\": user_id, \"updated_user\": user}\n",
    "\n",
    "@app.patch(\"/users/{user_id}\")\n",
    "def partial_update_user(user_id: int, user: User):\n",
    "    # Only provided fields will be updated\n",
    "    return {\"user_id\": user_id, \"changes\": user.dict(exclude_unset=True)}\n",
    "\n",
    "# PATCH request body (partial update):\n",
    "# {\n",
    "#   \"full_name\": \"John Doe\"\n",
    "# }"
   ]
  },
  {
   "cell_type": "markdown",
   "id": "7c784d83",
   "metadata": {},
   "source": [
    "**Key Points:**\n",
    "- POST: Create new resources\n",
    "- PUT: Full update (all fields)\n",
    "- PATCH: Partial update (some fields)\n",
    "- `exclude_unset=True` shows only provided fields"
   ]
  },
  {
   "cell_type": "markdown",
   "id": "ff479fb6",
   "metadata": {},
   "source": [
    "#### Field Validation with Field()\n",
    "\n",
    "**Adding constraints and validation to individual fields**"
   ]
  },
  {
   "cell_type": "code",
   "execution_count": null,
   "id": "f8ec9640",
   "metadata": {},
   "outputs": [],
   "source": [
    "from pydantic import BaseModel, Field\n",
    "from typing import Optional\n",
    "\n",
    "class Product(BaseModel):\n",
    "    name: str = Field(..., min_length=1, max_length=100, description=\"Product name\")\n",
    "    price: float = Field(..., gt=0, le=10000, description=\"Product price in USD\")\n",
    "    quantity: int = Field(0, ge=0, description=\"Available quantity\")\n",
    "    category: str = Field(..., regex=\"^(electronics|books|clothing|food)$\")\n",
    "    tags: Optional[str] = Field(None, max_length=200)\n",
    "\n",
    "@app.post(\"/products/\")\n",
    "def create_product(product: Product):\n",
    "    return {\"product\": product}"
   ]
  },
  {
   "cell_type": "markdown",
   "id": "71bea5f9",
   "metadata": {},
   "source": [
    "**Field Validation Options:**\n",
    "- `min_length` / `max_length` - String length\n",
    "- `gt` / `ge` / `lt` / `le` - Numeric comparisons\n",
    "- `regex` - Pattern matching\n",
    "- `description` - Field documentation\n",
    "- `...` - Required field indicator"
   ]
  },
  {
   "cell_type": "markdown",
   "id": "0f5dac8b",
   "metadata": {},
   "source": [
    "#### Nested Models\n",
    "\n",
    "**Models containing other models for complex data structures**"
   ]
  },
  {
   "cell_type": "code",
   "execution_count": null,
   "id": "8d880441",
   "metadata": {},
   "outputs": [],
   "source": [
    "from typing import List, Optional\n",
    "\n",
    "class Address(BaseModel):\n",
    "    street: str\n",
    "    city: str\n",
    "    country: str\n",
    "    postal_code: str\n",
    "\n",
    "class Item(BaseModel):\n",
    "    name: str\n",
    "    price: float\n",
    "\n",
    "class Order(BaseModel):\n",
    "    order_id: int\n",
    "    customer_name: str\n",
    "    customer_email: str\n",
    "    shipping_address: Address  # Nested model\n",
    "    items: List[Item]  # List of nested models\n",
    "    total_amount: float\n",
    "    notes: Optional[str] = None\n",
    "\n",
    "@app.post(\"/orders/\")\n",
    "def create_order(order: Order):\n",
    "    return {\n",
    "        \"message\": \"Order created\",\n",
    "        \"order_id\": order.order_id,\n",
    "        \"customer\": order.customer_name,\n",
    "        \"item_count\": len(order.items),\n",
    "        \"total\": order.total_amount\n",
    "    }"
   ]
  },
  {
   "cell_type": "markdown",
   "id": "0139ea78",
   "metadata": {},
   "source": [
    "**Key Points:**\n",
    "- Use other models as field types\n",
    "- `List[Model]` for arrays of objects\n",
    "- Nested validation applies to all levels\n",
    "- Complex JSON structures become type-safe"
   ]
  },
  {
   "cell_type": "markdown",
   "id": "5c262862",
   "metadata": {},
   "source": [
    "#### Custom Validators\n",
    "\n",
    "**Adding business logic validation with custom methods**"
   ]
  },
  {
   "cell_type": "code",
   "execution_count": null,
   "id": "504618ef",
   "metadata": {},
   "outputs": [],
   "source": [
    "from pydantic import BaseModel, validator, Field\n",
    "import re\n",
    "\n",
    "class User(BaseModel):\n",
    "    username: str = Field(..., min_length=3, max_length=20)\n",
    "    email: str\n",
    "    age: int = Field(..., ge=13, le=120)\n",
    "    password: str = Field(..., min_length=8)\n",
    "    confirm_password: str\n",
    "\n",
    "    @validator('email')\n",
    "    def validate_email(cls, v):\n",
    "        if '@' not in v or '.' not in v.split('@')[-1]:\n",
    "            raise ValueError('Invalid email format')\n",
    "        return v.lower()  # Convert to lowercase\n",
    "\n",
    "    @validator('username')\n",
    "    def validate_username(cls, v):\n",
    "        if not re.match(r'^[a-zA-Z0-9_]+$', v):\n",
    "            raise ValueError('Username can only contain letters, numbers, and underscores')\n",
    "        return v\n",
    "\n",
    "    @validator('confirm_password')\n",
    "    def passwords_match(cls, v, values):\n",
    "        if 'password' in values and v != values['password']:\n",
    "            raise ValueError('Passwords do not match')\n",
    "        return v\n",
    "\n",
    "    @validator('password')\n",
    "    def validate_password(cls, v):\n",
    "        if not re.search(r'[A-Z]', v):\n",
    "            raise ValueError('Password must contain at least one uppercase letter')\n",
    "        if not re.search(r'[a-z]', v):\n",
    "            raise ValueError('Password must contain at least one lowercase letter')\n",
    "        if not re.search(r'\\d', v):\n",
    "            raise ValueError('Password must contain at least one digit')\n",
    "        return v\n",
    "\n",
    "@app.post(\"/register/\")\n",
    "def register_user(user: User):\n",
    "    # Password confirmation not needed in response\n",
    "    user_data = user.dict()\n",
    "    del user_data['confirm_password']\n",
    "    return {\"message\": \"User registered successfully\", \"user\": user_data}"
   ]
  },
  {
   "cell_type": "markdown",
   "id": "c9e41c70",
   "metadata": {},
   "source": [
    "**Custom Validator Features:**\n",
    "- `@validator('field_name')` decorator\n",
    "- Access to field value and other values\n",
    "- Can transform data (like lowercase email)\n",
    "- Can raise `ValueError` for validation errors\n",
    "- Execute in order of definition"
   ]
  },
  {
   "cell_type": "markdown",
   "id": "6a154b98",
   "metadata": {},
   "source": [
    "#### Model Configuration\n",
    "\n",
    "**Customizing model behavior with Config class**"
   ]
  },
  {
   "cell_type": "code",
   "execution_count": null,
   "id": "44f1d7e3",
   "metadata": {},
   "outputs": [],
   "source": [
    "from pydantic import BaseModel\n",
    "from datetime import datetime\n",
    "\n",
    "class User(BaseModel):\n",
    "    id: int\n",
    "    name: str\n",
    "    email: str\n",
    "    created_at: datetime\n",
    "    is_active: bool\n",
    "\n",
    "    class Config:\n",
    "        # Allow ORM objects (SQLAlchemy models)\n",
    "        orm_mode = True\n",
    "        \n",
    "        # Custom JSON encoder for special types\n",
    "        json_encoders = {\n",
    "            datetime: lambda dt: dt.isoformat()\n",
    "        }\n",
    "        \n",
    "        # Validate assignment after creation\n",
    "        validate_assignment = True\n",
    "        \n",
    "        # Use enum values instead of names\n",
    "        use_enum_values = True\n",
    "        \n",
    "        # Example data for documentation\n",
    "        schema_extra = {\n",
    "            \"example\": {\n",
    "                \"id\": 1,\n",
    "                \"name\": \"John Doe\",\n",
    "                \"email\": \"john@example.com\",\n",
    "                \"created_at\": \"2023-01-01T10:00:00\",\n",
    "                \"is_active\": True\n",
    "            }\n",
    "        }\n",
    "\n",
    "# Usage with ORM (if using databases like SQLAlchemy)\n",
    "@app.get(\"/users/{user_id}\", response_model=User)\n",
    "def get_user(user_id: int):\n",
    "    # Simulate database user object\n",
    "    # With orm_mode=True, can return ORM object directly\n",
    "    user_data = {\n",
    "        \"id\": user_id,\n",
    "        \"name\": \"John Doe\",\n",
    "        \"email\": \"john@example.com\",\n",
    "        \"created_at\": datetime.now(),\n",
    "        \"is_active\": True\n",
    "    }\n",
    "    return user_data"
   ]
  },
  {
   "cell_type": "markdown",
   "id": "1690b792",
   "metadata": {},
   "source": [
    "**Config Options:**\n",
    "- `orm_mode = True` - Work with ORM objects\n",
    "- `validate_assignment = True` - Validate when fields change\n",
    "- `json_encoders` - Custom serialization for specific types\n",
    "- `schema_extra` - Example data for API docs"
   ]
  },
  {
   "cell_type": "markdown",
   "id": "d509af3a",
   "metadata": {},
   "source": [
    "#### Union Types and Multiple Model Types\n",
    "\n",
    "**Handling different request body formats**"
   ]
  },
  {
   "cell_type": "code",
   "execution_count": null,
   "id": "d95ece46",
   "metadata": {},
   "outputs": [],
   "source": [
    "from typing import Union\n",
    "from pydantic import BaseModel\n",
    "\n",
    "class ImagePost(BaseModel):\n",
    "    type: str = \"image\"\n",
    "    title: str\n",
    "    image_url: str\n",
    "    caption: Optional[str] = None\n",
    "\n",
    "class TextPost(BaseModel):\n",
    "    type: str = \"text\"\n",
    "    title: str\n",
    "    content: str\n",
    "    tags: List[str] = []\n",
    "\n",
    "class VideoPost(BaseModel):\n",
    "    type: str = \"video\"\n",
    "    title: str\n",
    "    video_url: str\n",
    "    duration: int  # seconds\n",
    "\n",
    "# Union type allows any of the three models\n",
    "@app.post(\"/posts/\")\n",
    "def create_post(post: Union[ImagePost, TextPost, VideoPost]):\n",
    "    return {\n",
    "        \"message\": f\"Created {post.type} post\",\n",
    "        \"title\": post.title,\n",
    "        \"post_data\": post\n",
    "    }\n",
    "\n",
    "# FastAPI will try each model until one validates successfully\n",
    "# Request examples:\n",
    "# {\"type\": \"image\", \"title\": \"My Photo\", \"image_url\": \"http://example.com/photo.jpg\"}\n",
    "# {\"type\": \"text\", \"title\": \"My Article\", \"content\": \"Article content here...\"}\n",
    "# {\"type\": \"video\", \"title\": \"My Video\", \"video_url\": \"http://example.com/video.mp4\", \"duration\": 300}"
   ]
  },
  {
   "cell_type": "markdown",
   "id": "ce75a1d1",
   "metadata": {},
   "source": [
    "#### Error Handling and Validation\n",
    "\n",
    "**Understanding and handling validation errors**"
   ]
  },
  {
   "cell_type": "code",
   "execution_count": null,
   "id": "6beddc0f",
   "metadata": {},
   "outputs": [],
   "source": [
    "from fastapi import HTTPException\n",
    "from pydantic import ValidationError\n",
    "\n",
    "class Product(BaseModel):\n",
    "    name: str = Field(..., min_length=1, max_length=50)\n",
    "    price: float = Field(..., gt=0)\n",
    "    category_id: int = Field(..., gt=0)\n",
    "    \n",
    "    @validator('name')\n",
    "    def name_must_not_be_empty(cls, v):\n",
    "        if not v.strip():\n",
    "            raise ValueError('Name cannot be empty or whitespace only')\n",
    "        return v.strip()\n",
    "\n",
    "@app.post(\"/products/\")\n",
    "def create_product(product: Product):\n",
    "    try:\n",
    "        # FastAPI automatically validates, but you can add custom logic\n",
    "        if product.name.lower() in ['admin', 'root', 'system']:\n",
    "            raise HTTPException(status_code=400, detail=\"Reserved product name\")\n",
    "        \n",
    "        return {\"message\": \"Product created\", \"product\": product}\n",
    "    \n",
    "    except ValidationError as e:\n",
    "        # This is automatically handled by FastAPI, shown for reference\n",
    "        raise HTTPException(status_code=422, detail=e.errors())"
   ]
  },
  {
   "cell_type": "markdown",
   "id": "2bd76c9c",
   "metadata": {},
   "source": [
    "**Key Best Practices:**\n",
    "- Use separate models for create, update, and response\n",
    "- Add meaningful field validation and descriptions\n",
    "- Use enums for limited choice fields\n",
    "- Provide example data for API documentation\n",
    "- Keep models focused and single-purpose\n",
    "- Use custom validators for business logic\n",
    "- Consider using `Optional` fields for partial updates"
   ]
  },
  {
   "cell_type": "markdown",
   "id": "07cf72f8",
   "metadata": {},
   "source": [
    "###  CONFIGURATION & SETTINGS"
   ]
  },
  {
   "cell_type": "markdown",
   "id": "86d9af20",
   "metadata": {},
   "source": [
    "\n",
    "| Concept | Description | Implementation | Use Case |\n",
    "|---------|-------------|----------------|----------|\n",
    "| **Settings Management** | Application configuration | `BaseSettings` | Environment config |\n",
    "| **Environment Variables** | Config from env vars | `.env` files | Deployment flexibility |\n",
    "| **Config Validation** | Validate configuration | Pydantic settings | Config integrity |\n",
    "| **Multiple Environments** | Different configs per env | Environment-specific settings | Dev/staging/prod |"
   ]
  },
  {
   "cell_type": "code",
   "execution_count": null,
   "id": "746a53f9",
   "metadata": {},
   "outputs": [],
   "source": [
    "# .env files \n",
    "\n",
    "DB_HOST=localhost\n",
    "DB_PORT=5432\n",
    "DB_NAME=sqlalchemy\n",
    "DB_USER=postgres\n",
    "DB_PASSWORD=1234"
   ]
  },
  {
   "cell_type": "markdown",
   "id": "1e8ede8d",
   "metadata": {},
   "source": [
    "### VALIDATION & SERIALIZATION"
   ]
  },
  {
   "cell_type": "markdown",
   "id": "516ebe98",
   "metadata": {},
   "source": [
    "\n",
    "\n",
    "| Concept | Description | Implementation | Benefits |\n",
    "|---------|-------------|----------------|----------|\n",
    "| **Automatic Validation** | Request data validation | Pydantic models | Type safety |\n",
    "| **Field Validators** | Custom field validation | `@validator('field_name')` | Business rules |\n",
    "| **Root Validators** | Validate entire model | `@root_validator` | Cross-field validation |\n",
    "| **Type Hints** | Python type annotations | `name: str`, `age: int` | IDE support, validation |\n",
    "| **Union Types** | Multiple possible types | `Union[str, int]` | Flexible inputs |\n",
    "| **Optional Fields** | Nullable fields | `Optional[str]` | Not required |\n",
    "| **Default Values** | Field defaults | `name: str = \"default\"` | Fallback values |\n",
    "| **Alias Fields** | Alternative field names | `Field(alias=\"userName\")` | API compatibility |"
   ]
  },
  {
   "cell_type": "markdown",
   "id": "2d8fcb9b",
   "metadata": {},
   "source": [
    "###  DEPENDENCIES"
   ]
  },
  {
   "cell_type": "markdown",
   "id": "46c5c1dd",
   "metadata": {},
   "source": [
    "\n",
    "\n",
    "| Concept | Description | Example | Purpose |\n",
    "|---------|-------------|---------|---------|\n",
    "| **Dependency Injection** | Provide dependencies to functions | `Depends(get_db)` | Separation of concerns |\n",
    "| **Function Dependencies** | Dependencies as functions | `def get_db(): ...` | Resource management |\n",
    "| **Class Dependencies** | Dependencies as classes | `class CommonDependency: ...` | Stateful dependencies |\n",
    "| **Sub-dependencies** | Dependencies with dependencies | `def get_user(db=Depends(get_db)):` | Dependency chains |\n",
    "| **Dependency Override** | Override for testing | `app.dependency_overrides[get_db] = override_get_db` | Testing |\n",
    "| **Global Dependencies** | App-level dependencies | `dependencies=[Depends(verify_token)]` | Cross-cutting concerns |\n",
    "| **Path-level Dependencies** | Router-level dependencies | Router dependencies | Route groups |\n",
    "| **Yield Dependencies** | Context manager dependencies | `yield db` | Resource cleanup |"
   ]
  },
  {
   "cell_type": "markdown",
   "id": "67843aa8",
   "metadata": {},
   "source": [
    "#### Dependency Injection Basics\n",
    "\n",
    "**Providing dependencies to endpoint functions using Depends()**"
   ]
  },
  {
   "cell_type": "code",
   "execution_count": null,
   "id": "184beec6",
   "metadata": {},
   "outputs": [],
   "source": [
    "from fastapi import FastAPI, Depends\n",
    "\n",
    "app = FastAPI()\n",
    "\n",
    "# Simple dependency function\n",
    "def get_message():\n",
    "    return \"Hello from dependency!\"\n",
    "\n",
    "@app.get(\"/\")\n",
    "def read_root(message: str = Depends(get_message)):\n",
    "    return {\"message\": message}\n",
    "\n",
    "# When /  is called:\n",
    "# 1. FastAPI calls get_message()\n",
    "# 2. Result is passed to read_root() as message parameter\n",
    "# 3. Returns: {\"message\": \"Hello from dependency!\"}"
   ]
  },
  {
   "cell_type": "markdown",
   "id": "81051404",
   "metadata": {},
   "source": [
    "**Key Points:**\n",
    "- `Depends()` tells FastAPI to call the function and inject the result\n",
    "- Dependency function runs before the endpoint function\n",
    "- Result is passed as a parameter to the endpoint"
   ]
  },
  {
   "cell_type": "markdown",
   "id": "264c07df",
   "metadata": {},
   "source": [
    "#### Function Dependencies\n",
    "\n",
    "**Using functions as dependencies for resource management**"
   ]
  },
  {
   "cell_type": "code",
   "execution_count": null,
   "id": "1f2dff37",
   "metadata": {},
   "outputs": [],
   "source": [
    "# Database connection dependency\n",
    "def get_db():\n",
    "    return {\"connection\": \"database_connected\"}\n",
    "\n",
    "# Configuration dependency\n",
    "def get_config():\n",
    "    return {\"debug\": True, \"version\": \"1.0\"}\n",
    "\n",
    "# Using multiple dependencies\n",
    "@app.get(\"/users/\")\n",
    "def get_users(\n",
    "    db = Depends(get_db),\n",
    "    config = Depends(get_config)\n",
    "):\n",
    "    return {\n",
    "        \"users\": [\"user1\", \"user2\"],\n",
    "        \"db_status\": db[\"connection\"],\n",
    "        \"debug_mode\": config[\"debug\"]\n",
    "    }"
   ]
  },
  {
   "cell_type": "markdown",
   "id": "ac2380a0",
   "metadata": {},
   "source": [
    "**Key Points:**\n",
    "- Dependencies are just regular Python functions\n",
    "- Each dependency runs independently\n",
    "- Multiple dependencies can be used in one endpoint"
   ]
  },
  {
   "cell_type": "markdown",
   "id": "ea97948a",
   "metadata": {},
   "source": [
    "#### Dependencies with Parameters\n",
    "\n",
    "**Dependencies that accept parameters**"
   ]
  },
  {
   "cell_type": "code",
   "execution_count": null,
   "id": "e2808165",
   "metadata": {},
   "outputs": [],
   "source": [
    "# Dependency with parameters\n",
    "def get_query_filter(limit: int = 10, skip: int = 0):\n",
    "    return {\"limit\": limit, \"skip\": skip}\n",
    "\n",
    "# Dependency with required parameter\n",
    "def get_token(token: str):\n",
    "    return {\"token\": token, \"valid\": len(token) > 5}\n",
    "\n",
    "@app.get(\"/items/\")\n",
    "def get_items(\n",
    "    filters = Depends(get_query_filter),  # Uses query parameters\n",
    "    auth = Depends(get_token)  # Uses query parameter 'token'\n",
    "):\n",
    "    return {\n",
    "        \"filters\": filters,\n",
    "        \"auth_status\": auth[\"valid\"],\n",
    "        \"data\": [\"item1\", \"item2\"]\n",
    "    }\n",
    "\n",
    "# URL: /items/?limit=5&skip=10&token=mytoken123"
   ]
  },
  {
   "cell_type": "markdown",
   "id": "092b5c6a",
   "metadata": {},
   "source": [
    "**Key Points:**\n",
    "- Dependencies can have their own parameters\n",
    "- Parameters come from query params, path params, or request body\n",
    "- FastAPI handles parameter resolution automatically"
   ]
  },
  {
   "cell_type": "markdown",
   "id": "9f80f754",
   "metadata": {},
   "source": [
    "#### Class Dependencies\n",
    "\n",
    "**Using classes as dependencies for stateful objects**"
   ]
  },
  {
   "cell_type": "code",
   "execution_count": null,
   "id": "a9d097d0",
   "metadata": {},
   "outputs": [],
   "source": [
    "class DatabaseConnection:\n",
    "    def __init__(self):\n",
    "        self.connected = True\n",
    "        self.host = \"localhost\"\n",
    "    \n",
    "    def get_status(self):\n",
    "        return f\"Connected to {self.host}\"\n",
    "\n",
    "class UserService:\n",
    "    def __init__(self, db: DatabaseConnection = Depends(DatabaseConnection)):\n",
    "        self.db = db\n",
    "    \n",
    "    def get_user_count(self):\n",
    "        return {\"count\": 5, \"db_status\": self.db.get_status()}\n",
    "\n",
    "@app.get(\"/stats/\")\n",
    "def get_stats(user_service: UserService = Depends(UserService)):\n",
    "    return user_service.get_user_count()"
   ]
  },
  {
   "cell_type": "markdown",
   "id": "02ccd6b3",
   "metadata": {},
   "source": [
    "**Key Points:**\n",
    "- Classes can be used as dependencies\n",
    "- Class dependencies maintain state\n",
    "- Classes can have their own dependencies in `__init__`"
   ]
  },
  {
   "cell_type": "markdown",
   "id": "48cf7382",
   "metadata": {},
   "source": [
    "#### Sub-dependencies (Dependency Chains)\n",
    "\n",
    "**Dependencies that depend on other dependencies**"
   ]
  },
  {
   "cell_type": "code",
   "execution_count": null,
   "id": "5d0877f3",
   "metadata": {},
   "outputs": [],
   "source": [
    "# Level 1: Basic dependency\n",
    "def get_database():\n",
    "    return {\"db\": \"connected\"}\n",
    "\n",
    "# Level 2: Depends on get_database\n",
    "def get_user_repo(db = Depends(get_database)):\n",
    "    return {\"repo\": \"user_repository\", \"db\": db}\n",
    "\n",
    "# Level 3: Depends on get_user_repo (which depends on get_database)\n",
    "def get_current_user(user_repo = Depends(get_user_repo)):\n",
    "    return {\n",
    "        \"user\": \"john_doe\",\n",
    "        \"repo\": user_repo[\"repo\"],\n",
    "        \"db_status\": user_repo[\"db\"][\"db\"]\n",
    "    }\n",
    "\n",
    "@app.get(\"/profile/\")\n",
    "def get_profile(current_user = Depends(get_current_user)):\n",
    "    return {\"profile\": current_user}"
   ]
  },
  {
   "cell_type": "markdown",
   "id": "fb0224f5",
   "metadata": {},
   "source": [
    "**Key Points:**\n",
    "- Dependencies can depend on other dependencies\n",
    "- FastAPI resolves the entire dependency chain\n",
    "- Sub-dependencies are cached per request"
   ]
  },
  {
   "cell_type": "markdown",
   "id": "c0878156",
   "metadata": {},
   "source": [
    "#### Dependency Caching\n",
    "\n",
    "**Dependencies are cached within the same request**"
   ]
  },
  {
   "cell_type": "code",
   "execution_count": null,
   "id": "d9311fae",
   "metadata": {},
   "outputs": [],
   "source": [
    "call_count = 0\n",
    "\n",
    "def expensive_operation():\n",
    "    global call_count\n",
    "    call_count += 1\n",
    "    return {\"result\": f\"Called {call_count} times\", \"data\": \"expensive_data\"}\n",
    "\n",
    "# Used in multiple places\n",
    "@app.get(\"/endpoint1/\")\n",
    "def endpoint1(data = Depends(expensive_operation)):\n",
    "    return {\"endpoint\": \"1\", \"data\": data}\n",
    "\n",
    "@app.get(\"/endpoint2/\")\n",
    "def endpoint2(\n",
    "    data1 = Depends(expensive_operation),\n",
    "    data2 = Depends(expensive_operation)  # Same dependency, cached result\n",
    "):\n",
    "    return {\n",
    "        \"endpoint\": \"2\", \n",
    "        \"data1\": data1,\n",
    "        \"data2\": data2  # Will have same result as data1\n",
    "    }"
   ]
  },
  {
   "cell_type": "markdown",
   "id": "1690b5f3",
   "metadata": {},
   "source": [
    "**Key Points:**\n",
    "- Dependencies are calculated once per request\n",
    "- Multiple uses of same dependency get cached result\n",
    "- Reduces redundant operations"
   ]
  },
  {
   "cell_type": "markdown",
   "id": "ec648a2a",
   "metadata": {},
   "source": [
    "#### Dependency Override (Testing)\n",
    "\n",
    "**Overriding dependencies for testing purposes**"
   ]
  },
  {
   "cell_type": "code",
   "execution_count": null,
   "id": "98f0ea08",
   "metadata": {},
   "outputs": [],
   "source": [
    "# Original dependency\n",
    "def get_real_database():\n",
    "    return {\"type\": \"production\", \"data\": \"real_data\"}\n",
    "\n",
    "# Test override\n",
    "def get_fake_database():\n",
    "    return {\"type\": \"test\", \"data\": \"fake_data\"}\n",
    "\n",
    "@app.get(\"/data/\")\n",
    "def get_data(db = Depends(get_real_database)):\n",
    "    return {\"source\": db[\"type\"], \"data\": db[\"data\"]}\n",
    "\n",
    "# Override for testing\n",
    "app.dependency_overrides[get_real_database] = get_fake_database\n",
    "\n",
    "# Now when /data/ is called, it uses get_fake_database instead\n",
    "# Returns: {\"source\": \"test\", \"data\": \"fake_data\"}\n",
    "\n",
    "# Remove override\n",
    "# app.dependency_overrides = {}"
   ]
  },
  {
   "cell_type": "markdown",
   "id": "150e4d19",
   "metadata": {},
   "source": [
    "**Key Points:**\n",
    "- Override dependencies without changing code\n",
    "- Useful for testing with mock data\n",
    "- Can be enabled/disabled dynamically"
   ]
  },
  {
   "cell_type": "markdown",
   "id": "228e0fe4",
   "metadata": {},
   "source": [
    "#### Global Dependencies\n",
    "\n",
    "**App-level dependencies that apply to all endpoints**"
   ]
  },
  {
   "cell_type": "code",
   "execution_count": null,
   "id": "07a0476f",
   "metadata": {},
   "outputs": [],
   "source": [
    "def verify_api_key(api_key: str = \"\"):\n",
    "    if len(api_key) < 5:\n",
    "        return {\"valid\": False, \"message\": \"Invalid API key\"}\n",
    "    return {\"valid\": True, \"user\": \"authenticated_user\"}\n",
    "\n",
    "# Apply to entire app\n",
    "app = FastAPI(dependencies=[Depends(verify_api_key)])\n",
    "\n",
    "@app.get(\"/public/\")\n",
    "def public_endpoint(auth = Depends(verify_api_key)):\n",
    "    if not auth[\"valid\"]:\n",
    "        return {\"error\": \"Unauthorized\"}\n",
    "    return {\"message\": \"Public data\", \"user\": auth[\"user\"]}\n",
    "\n",
    "@app.get(\"/private/\")\n",
    "def private_endpoint(auth = Depends(verify_api_key)):\n",
    "    if not auth[\"valid\"]:\n",
    "        return {\"error\": \"Unauthorized\"}\n",
    "    return {\"message\": \"Private data\", \"user\": auth[\"user\"]}"
   ]
  },
  {
   "cell_type": "markdown",
   "id": "623d4f28",
   "metadata": {},
   "source": [
    "**Key Points:**\n",
    "- Global dependencies run for all endpoints\n",
    "- Still need to access dependency result in endpoints\n",
    "- Good for authentication, logging, etc."
   ]
  },
  {
   "cell_type": "markdown",
   "id": "498dd5b1",
   "metadata": {},
   "source": [
    "#### Router-level Dependencies\n",
    "\n",
    "**Dependencies that apply to specific route groups**"
   ]
  },
  {
   "cell_type": "code",
   "execution_count": null,
   "id": "107f17bf",
   "metadata": {},
   "outputs": [],
   "source": [
    "from fastapi import APIRouter\n",
    "\n",
    "# Router dependency\n",
    "def admin_check():\n",
    "    return {\"role\": \"admin\", \"permissions\": [\"read\", \"write\", \"delete\"]}\n",
    "\n",
    "def user_check():\n",
    "    return {\"role\": \"user\", \"permissions\": [\"read\"]}\n",
    "\n",
    "# Admin router with admin dependency\n",
    "admin_router = APIRouter(\n",
    "    prefix=\"/admin\",\n",
    "    dependencies=[Depends(admin_check)]\n",
    ")\n",
    "\n",
    "@admin_router.get(\"/users/\")\n",
    "def admin_get_users(admin = Depends(admin_check)):\n",
    "    return {\"users\": [\"all_users\"], \"role\": admin[\"role\"]}\n",
    "\n",
    "# User router with user dependency\n",
    "user_router = APIRouter(\n",
    "    prefix=\"/user\", \n",
    "    dependencies=[Depends(user_check)]\n",
    ")\n",
    "\n",
    "@user_router.get(\"/profile/\")\n",
    "def user_profile(user = Depends(user_check)):\n",
    "    return {\"profile\": \"user_data\", \"role\": user[\"role\"]}\n",
    "\n",
    "# Include routers\n",
    "app.include_router(admin_router)\n",
    "app.include_router(user_router)"
   ]
  },
  {
   "cell_type": "markdown",
   "id": "c589088d",
   "metadata": {},
   "source": [
    "**Key Points:**\n",
    "- Router dependencies apply to all routes in that router\n",
    "- Different routers can have different dependencies\n",
    "- Useful for grouping related endpoints"
   ]
  },
  {
   "cell_type": "markdown",
   "id": "a0d16f8e",
   "metadata": {},
   "source": [
    "#### Yield Dependencies (Context Managers)\n",
    "\n",
    "**Dependencies with setup and cleanup using yield**"
   ]
  },
  {
   "cell_type": "code",
   "execution_count": null,
   "id": "6f0b55cb",
   "metadata": {},
   "outputs": [],
   "source": [
    "def get_db_connection():\n",
    "    print(\"🔗 Opening database connection\")\n",
    "    db = {\"connection\": \"opened\", \"transactions\": []}\n",
    "    \n",
    "    try:\n",
    "        yield db  # This is what gets injected\n",
    "    finally:\n",
    "        print(\"🔒 Closing database connection\")\n",
    "        db[\"connection\"] = \"closed\"\n",
    "\n",
    "def get_file_handler():\n",
    "    print(\"📁 Opening file\")\n",
    "    file_handle = {\"file\": \"opened\", \"content\": []}\n",
    "    \n",
    "    try:\n",
    "        yield file_handle\n",
    "    finally:\n",
    "        print(\"📁 Closing file\")\n",
    "        file_handle[\"file\"] = \"closed\"\n",
    "\n",
    "@app.get(\"/process/\")\n",
    "def process_data(\n",
    "    db = Depends(get_db_connection),\n",
    "    file = Depends(get_file_handler)\n",
    "):\n",
    "    # Both resources are opened before this runs\n",
    "    return {\n",
    "        \"db_status\": db[\"connection\"],\n",
    "        \"file_status\": file[\"file\"],\n",
    "        \"message\": \"Processing completed\"\n",
    "    }\n",
    "    # Both resources are closed after this completes"
   ]
  },
  {
   "cell_type": "markdown",
   "id": "f875982a",
   "metadata": {},
   "source": [
    "**Key Points:**\n",
    "- `yield` creates context manager dependencies\n",
    "- Code before `yield` runs at start\n",
    "- Code after `yield` runs at end (cleanup)\n",
    "- Great for resource management"
   ]
  },
  {
   "cell_type": "markdown",
   "id": "800d5761",
   "metadata": {},
   "source": [
    "\n",
    "\n",
    "**Best Practices:**\n",
    "- Keep dependencies simple and focused\n",
    "- Use descriptive names for dependency functions\n",
    "- Leverage dependency caching for expensive operations\n",
    "- Use `yield` for resources that need cleanup\n",
    "- Group related dependencies in separate modules\n",
    "- Override dependencies for testing\n",
    "- Use type hints for better documentation"
   ]
  },
  {
   "cell_type": "markdown",
   "id": "daf60165",
   "metadata": {},
   "source": [
    "###  MIDDLEWARE"
   ]
  },
  {
   "cell_type": "markdown",
   "id": "ce1e67e0",
   "metadata": {},
   "source": [
    "\n",
    "\n",
    "| Type | Description | Implementation | Purpose |\n",
    "|------|-------------|----------------|---------|\n",
    "| **Custom Middleware** | Custom processing logic | `@app.middleware(\"http\")` | Request/response processing |\n",
    "| **CORS Middleware** | Cross-Origin Resource Sharing | `CORSMiddleware` | Browser security |\n",
    "| **Trusted Host Middleware** | Host validation | `TrustedHostMiddleware` | Security |\n",
    "| **GZIP Middleware** | Response compression | `GZipMiddleware` | Performance |\n",
    "| **HTTPS Redirect** | Force HTTPS | `HTTPSRedirectMiddleware` | Security |\n",
    "| **Session Middleware** | Session management | Third-party middleware | Stateful sessions |"
   ]
  },
  {
   "cell_type": "markdown",
   "id": "28c3effd",
   "metadata": {},
   "source": [
    "#### CORS Middleware\n",
    "\n",
    "**Handling Cross-Origin Resource Sharing**"
   ]
  },
  {
   "cell_type": "code",
   "execution_count": null,
   "id": "b01d3903",
   "metadata": {},
   "outputs": [],
   "source": [
    "\n",
    "from fastapi.middleware.cors import CORSMiddleware\n",
    "\n",
    "app = FastAPI()\n",
    "\n",
    "# Add CORS middleware\n",
    "app.add_middleware(\n",
    "    CORSMiddleware,\n",
    "    allow_origins=[\"http://localhost:3000\", \"https://myapp.com\"],\n",
    "    allow_credentials=True,\n",
    "    allow_methods=[\"GET\", \"POST\", \"PUT\", \"DELETE\"],\n",
    "    allow_headers=[\"*\"],\n",
    ")\n",
    "\n",
    "@app.get(\"/api/users/\")\n",
    "def get_users():\n",
    "    return {\"users\": [\"user1\", \"user2\"]}\n",
    "\n",
    "@app.post(\"/api/users/\")\n",
    "def create_user():\n",
    "    return {\"message\": \"User created\"}\n",
    "\n",
    "# For development (allow all origins)\n",
    "# app.add_middleware(\n",
    "#     CORSMiddleware,\n",
    "#     allow_origins=[\"*\"],\n",
    "#     allow_credentials=True,\n",
    "#     allow_methods=[\"*\"],\n",
    "#     allow_headers=[\"*\"],\n",
    "# )"
   ]
  },
  {
   "cell_type": "markdown",
   "id": "0a01f4ce",
   "metadata": {},
   "source": [
    "**CORS Options:**\n",
    "- `allow_origins` - List of allowed origins\n",
    "- `allow_credentials` - Allow cookies/auth headers\n",
    "- `allow_methods` - Allowed HTTP methods\n",
    "- `allow_headers` - Allowed request headers\n",
    "- `expose_headers` - Headers exposed to frontend"
   ]
  },
  {
   "cell_type": "markdown",
   "id": "f9778ded",
   "metadata": {},
   "source": [
    "###  ERROR HANDLING"
   ]
  },
  {
   "cell_type": "markdown",
   "id": "46d35962",
   "metadata": {},
   "source": [
    "\n",
    "\n",
    "| Concept | Description | Example | Purpose |\n",
    "|---------|-------------|---------|---------|\n",
    "| **HTTPException** | HTTP error responses | `raise HTTPException(404, \"Not found\")` | Standard HTTP errors |\n",
    "| **Custom Exception Handlers** | Handle specific exceptions | `@app.exception_handler(ValueError)` | Custom error responses |\n",
    "| **Validation Errors** | Pydantic validation errors | Automatic handling | Input validation |\n",
    "| **Request Validation Error** | Request parsing errors | Built-in handling | Malformed requests |\n",
    "| **Custom Error Responses** | Tailored error messages | Custom exception classes | User-friendly errors |"
   ]
  },
  {
   "cell_type": "markdown",
   "id": "754d1d54",
   "metadata": {},
   "source": [
    "###  AUTHENTICATION & AUTHORIZATION"
   ]
  },
  {
   "cell_type": "markdown",
   "id": "b75b76a8",
   "metadata": {},
   "source": [
    "\n",
    "\n",
    "| Concept | Description | Implementation | Use Case |\n",
    "|---------|-------------|----------------|----------|\n",
    "| **OAuth2** | OAuth 2.0 implementation | `OAuth2PasswordBearer` | Token-based auth |\n",
    "| **JWT Tokens** | JSON Web Tokens | `python-jose[cryptography]` | Stateless auth |\n",
    "| **Password Hashing** | Secure password storage | `passlib[bcrypt]` | Password security |\n",
    "| **Scopes** | Permission granularity | `scopes={\"read\": \"Read access\"}` | Fine-grained permissions |\n",
    "| **Dependencies** | Reusable auth logic | `Depends(get_current_user)` | Auth injection |\n",
    "| **Security Schemes** | OpenAPI security docs | Various security definitions | API documentation |\n",
    "| **API Keys** | Simple authentication | `APIKeyHeader`, `APIKeyQuery` | Basic auth |\n",
    "| **HTTP Basic Auth** | Username/password auth | `HTTPBasic` | Simple auth |"
   ]
  },
  {
   "cell_type": "markdown",
   "id": "75ef2c86",
   "metadata": {},
   "source": [
    "### PERFORMANCE & OPTIMIZATION"
   ]
  },
  {
   "cell_type": "markdown",
   "id": "10092fbc",
   "metadata": {},
   "source": [
    "\n",
    "\n",
    "| Concept | Description | Implementation | Benefit |\n",
    "|---------|-------------|----------------|---------|\n",
    "| **Async/Await** | Asynchronous programming | `async def` functions | Concurrent request handling |\n",
    "| **Database Connection Pooling** | Reuse database connections | SQLAlchemy pools | Reduced connection overhead |\n",
    "| **Caching** | Store computed results | Redis, in-memory | Faster responses |\n",
    "| **Response Compression** | Compress HTTP responses | GZip middleware | Reduced bandwidth |\n",
    "| **Pagination** | Limit response size | Query parameters | Manageable data sets |\n",
    "| **Response Models** | Optimize serialization | Exclude unnecessary fields | Smaller payloads |"
   ]
  },
  {
   "cell_type": "markdown",
   "id": "d97427fe",
   "metadata": {},
   "source": [
    "### SECURITY"
   ]
  },
  {
   "cell_type": "markdown",
   "id": "db91721b",
   "metadata": {},
   "source": [
    "\n",
    "\n",
    "| Concept | Description | Implementation | Protection Against |\n",
    "|---------|-------------|----------------|-------------------|\n",
    "| **HTTPS Enforcement** | Force encrypted connections | HTTPS redirect middleware | Man-in-the-middle attacks |\n",
    "| **CORS Configuration** | Cross-origin request control | CORS middleware | XSS attacks |\n",
    "| **Input Validation** | Validate all inputs | Pydantic models | Injection attacks |\n",
    "| **Authentication** | Verify user identity | OAuth2, JWT | Unauthorized access |\n",
    "| **Authorization** | Control resource access | Scopes, permissions | Privilege escalation |\n",
    "| **Rate Limiting** | Limit request rates | Custom middleware | DoS attacks |\n",
    "| **SQL Injection Prevention** | Safe database queries | ORM usage | SQL injection |"
   ]
  },
  {
   "cell_type": "markdown",
   "id": "2d76b118",
   "metadata": {},
   "source": [
    "### ADVANCED ROUTING"
   ]
  },
  {
   "cell_type": "markdown",
   "id": "bc5808c0",
   "metadata": {},
   "source": [
    "\n",
    "\n",
    "| Concept | Description | Example | Use Case |\n",
    "|---------|-------------|---------|----------|\n",
    "| **APIRouter** | Modular routing | `router = APIRouter()` | Code organization |\n",
    "| **Route Inclusion** | Include routers | `app.include_router(router)` | Modular apps |\n",
    "| **Route Prefixes** | Common path prefixes | `prefix=\"/api/v1\"` | API versioning |\n",
    "| **Route Tags** | Group operations | `tags=[\"items\"]` | Documentation |\n",
    "| **Route Dependencies** | Router-level dependencies | `dependencies=[Depends(auth)]` | Shared logic |\n",
    "| **Sub-applications** | Mount sub-apps | `app.mount(\"/sub\", sub_app)` | App composition |"
   ]
  },
  {
   "cell_type": "markdown",
   "id": "c031d99b",
   "metadata": {},
   "source": [
    "### BACKGROUND TASKS"
   ]
  },
  {
   "cell_type": "markdown",
   "id": "af693688",
   "metadata": {},
   "source": [
    "\n",
    "\n",
    "| Concept | Description | Example | Use Case |\n",
    "|---------|-------------|---------|----------|\n",
    "| **Background Tasks** | Non-blocking task execution | `BackgroundTasks.add_task()` | Email sending |\n",
    "| **Task Functions** | Functions run in background | `def send_notification():` | Async operations |\n",
    "| **Task Parameters** | Pass data to background tasks | `add_task(func, param1, param2)` | Parameterized tasks |\n",
    "| **Multiple Tasks** | Queue multiple tasks | Multiple `add_task()` calls | Batch operations |"
   ]
  },
  {
   "cell_type": "markdown",
   "id": "b6723a48",
   "metadata": {},
   "source": [
    "###  WEBSOCKETS"
   ]
  },
  {
   "cell_type": "markdown",
   "id": "cc4e8a33",
   "metadata": {},
   "source": [
    "\n",
    "\n",
    "| Concept | Description | Implementation | Use Case |\n",
    "|---------|-------------|----------------|----------|\n",
    "| **WebSocket Endpoints** | Real-time communication | `@app.websocket(\"/ws\")` | Live updates |\n",
    "| **WebSocket Accept** | Accept connections | `await websocket.accept()` | Connection establishment |\n",
    "| **Send/Receive Data** | Bidirectional communication | `send_text()`, `receive_text()` | Real-time data |\n",
    "| **Connection Management** | Handle connections/disconnections | Connection lifecycle | Resource cleanup |\n",
    "| **WebSocket Dependencies** | Inject dependencies | `Depends()` in WebSocket | Shared logic"
   ]
  },
  {
   "cell_type": "markdown",
   "id": "c5fe20b5",
   "metadata": {},
   "source": [
    "### TESTING"
   ]
  },
  {
   "cell_type": "markdown",
   "id": "a958a7e1",
   "metadata": {},
   "source": [
    "\n",
    "\n",
    "| Concept | Description | Tool/Library | Purpose |\n",
    "|---------|-------------|--------------|---------|\n",
    "| **Test Client** | Testing FastAPI apps | `TestClient` | Integration testing |\n",
    "| **Async Testing** | Test async endpoints | `pytest-asyncio` | Async test support |\n",
    "| **Database Testing** | Test with databases | Test database setup | Data layer testing |\n",
    "| **Dependency Override** | Mock dependencies | `app.dependency_overrides` | Isolated testing |\n",
    "| **Fixture Management** | Test data setup | `pytest` fixtures | Test data |"
   ]
  }
 ],
 "metadata": {
  "language_info": {
   "name": "python"
  }
 },
 "nbformat": 4,
 "nbformat_minor": 5
}
