{
 "cells": [
  {
   "cell_type": "markdown",
   "id": "f611441d",
   "metadata": {},
   "source": [
    "# why pydantic"
   ]
  },
  {
   "cell_type": "markdown",
   "id": "82174be6",
   "metadata": {},
   "source": [
    "Here's the content formatted in Markdown:\n",
    "\n",
    "# Theory: The Real Problem\n",
    "\n",
    "When building applications, we collect data from users, APIs, or files.* Python  → accepts any value, any type. This creates serious problems:\n",
    "\n",
    "* Wrong data types go into databases\n",
    "* Data analysis breaks with unexpected types\n",
    "* Bugs appear later, not when data enters\n",
    "* No way to ensure data quality\n",
    "\n",
    "This perfectly illustrates why data validation is crucial, especially in Python applications. Let's see what happens when we don't validate our data:\n",
    "\n"
   ]
  },
  {
   "cell_type": "code",
   "execution_count": 12,
   "id": "172b4af2",
   "metadata": {},
   "outputs": [
    {
     "name": "stdout",
     "output_type": "stream",
     "text": [
      "Ali thirty Flu\n",
      "Sara 25 Diabetes\n"
     ]
    }
   ],
   "source": [
    "class Patient:\n",
    "    def __init__(self, name, age, disease):\n",
    "        self.name = name\n",
    "        self.age = age\n",
    "        self.disease = disease\n",
    "\n",
    "\n",
    "# user input\n",
    "p1 = Patient(\"Ali\", \"thirty\", \"Flu\")   # age as str (mistake)\n",
    "p2 = Patient(\"Sara\", 25, \"Diabetes\")\n",
    "print(f\"{p1.name} {p1.age} {p1.disease}\")\n",
    "print(f\"{p2.name} {p2.age} {p2.disease}\")\n",
    "\n"
   ]
  },
  {
   "cell_type": "markdown",
   "id": "64f790bd",
   "metadata": {},
   "source": [
    "**👉 Why This is Bad: Database stores \"thirty\" as age. Later when you calculate average age, your program crashes!**"
   ]
  },
  {
   "cell_type": "markdown",
   "id": "6a2aa417",
   "metadata": {},
   "source": [
    "# Chapter 2: Type Hints - First Solution Attempt\n",
    "\n",
    "## Theory: What Are Type Hints?\n",
    "\n",
    "Python added type hints to suggest what type each variable should be. They help:\n",
    "\n",
    "* Developers understand code better\n",
    "* IDEs provide better suggestions\n",
    "* Code documentation becomes clearer\n",
    "\n",
    "> **Important:** Type hints are just suggestions - Python doesn't enforce them!"
   ]
  },
  {
   "cell_type": "code",
   "execution_count": 13,
   "id": "f1fe2f83",
   "metadata": {},
   "outputs": [
    {
     "name": "stdout",
     "output_type": "stream",
     "text": [
      "Ali thirty Flu\n",
      "Sara 25 Diabetes\n"
     ]
    }
   ],
   "source": [
    "class Patient:\n",
    "    def __init__(self, name: str, age: int, disease: str):\n",
    "        self.name = name\n",
    "        self.age = age\n",
    "        self.disease = disease\n",
    "# user input\n",
    "p1 = Patient(\"Ali\", \"thirty\", \"Flu\")   # age as str (mistake)\n",
    "p2 = Patient(\"Sara\", 25, \"Diabetes\")\n",
    "print(f\"{p1.name} {p1.age} {p1.disease}\")\n",
    "print(f\"{p2.name} {p2.age} {p2.disease}\")"
   ]
  },
  {
   "cell_type": "markdown",
   "id": "2413d177",
   "metadata": {},
   "source": [
    "**👉 Type hints don't enforce rules at runtime.**\n",
    "\n",
    "They only provide warnings in editors (PyCharm, VSCode) or with tools like `mypy`.\n",
    "\n",
    "> **Warning:** Invalid data can still slip in — for example, the database may still store `\"thirty\"` as a string for age."
   ]
  },
  {
   "cell_type": "markdown",
   "id": "7c433e13",
   "metadata": {},
   "source": [
    "![Pydantic-feature](https://github.com/Khalil-Haider/Backend/raw/main/pydantic/pydantic_feature.svg)"
   ]
  },
  {
   "cell_type": "markdown",
   "id": "36402464",
   "metadata": {},
   "source": [
    "# Chapter 3: **Pydantic – The Real Solution**\n",
    "\n",
    "👉 **Solution: ** Use **Pydantic**.\n",
    "\n",
    "It **takes type hints seriously** and turns them into **real rules**.\n",
    "\n",
    "---\n",
    "\n",
    "## 2. What is Pydantic?\n",
    "\n",
    "Pydantic is a **data validation and settings management library** that:\n",
    "\n",
    "* **Enforces type hints** (not just suggestions).\n",
    "* **Validates automatically** → rejects wrong input.\n",
    "* **Performs smart conversions** when possible.\n",
    "* **Raises errors early** (fail fast principle).\n",
    "* **Supports serialization** (convert objects into dict/JSON).\n",
    "* **Is extremely fast** because validation runs in **Rust** (`pydantic-core`).\n",
    "\n",
    "> **Key Concept:**\n",
    "> A **Pydantic Model** is a Python class that inherits from `BaseModel`.\n",
    "> It describes your data schema (shape + rules) in one place.\n",
    "\n",
    "---\n",
    "\n",
    "\n",
    "\n",
    "## 6. Key Terms to Remember\n",
    "\n",
    "* **Schema** → the structure & rules of your data (from type hints).\n",
    "* **Validation** → checking that input matches the schema.\n",
    "* **Serialization** → turning models into dicts/JSON.\n",
    "* **Fail Fast** → catch problems immediately at input.\n",
    "* **Strict Mode** → disallow auto-conversion, enforce exact types."
   ]
  },
  {
   "cell_type": "code",
   "execution_count": null,
   "id": "7abdc67e",
   "metadata": {},
   "outputs": [
    {
     "name": "stdout",
     "output_type": "stream",
     "text": [
      "name='John' age=30 email='john@email.com'\n"
     ]
    }
   ],
   "source": [
    "from pydantic import BaseModel\n",
    "\n",
    "class Patient(BaseModel):  # Must inherit from BaseModel\n",
    "    name: str\n",
    "    age: int\n",
    "    email: str\n",
    "\n",
    "# This works - correct types\n",
    "patient1 = Patient(name=\"John\", age=30, email=\"john@email.com\")\n",
    "print(patient1)  # Patient(name='John', age=30, email='john@email.com')"
   ]
  },
  {
   "cell_type": "markdown",
   "id": "cfcd3c2e",
   "metadata": {},
   "source": [
    "## Smart Type Conversion\n",
    "\n",
    "Pydantic doesn't just reject wrong types - it intelligently converts data when possible:\n",
    "\n",
    "* ✅ String `\"30\"` → Integer `30` (successful conversion)\n",
    "* ❌ String `\"thirty\"` → `ValidationError` (cannot convert)\n",
    "\n",
    "> **Key Feature:** This is especially useful when handling real-world data, like form submissions or API responses, where numbers often come as strings.\n",
    "\n",
    "```"
   ]
  },
  {
   "cell_type": "code",
   "execution_count": 16,
   "id": "c55d1265",
   "metadata": {},
   "outputs": [
    {
     "name": "stdout",
     "output_type": "stream",
     "text": [
      "name='Alice' age=30 email='alice@email.com'\n",
      "<class 'int'>\n"
     ]
    }
   ],
   "source": [
    "from pydantic import BaseModel\n",
    "\n",
    "class Patient(BaseModel):  # Must inherit from BaseModel\n",
    "    name: str\n",
    "    age: int\n",
    "    email: str\n",
    "    \n",
    "# Pydantic converts \"30\" to 30 automatically!\n",
    "patient2 = Patient(name=\"Alice\", age=\"30\", email=\"alice@email.com\")\n",
    "print(patient2)  # 30 (integer, not string!)\n",
    "print(type(patient2.age))  # <class 'int'>"
   ]
  },
  {
   "cell_type": "markdown",
   "id": "7a224d9d",
   "metadata": {},
   "source": [
    "**This fails - can't convert \"thirty\" to int**"
   ]
  },
  {
   "cell_type": "code",
   "execution_count": null,
   "id": "3f416123",
   "metadata": {},
   "outputs": [],
   "source": [
    "from pydantic import BaseModel\n",
    "\n",
    "class Patient(BaseModel):  # Must inherit from BaseModel\n",
    "    name: str\n",
    "    age: int\n",
    "    email: str\n",
    "    \n",
    "# Pydantic \n",
    "patient2 = Patient(name=\"Alice\", age=\"Thirty\", email=\"alice@email.com\")\n",
    "print(patient2)  "
   ]
  },
  {
   "cell_type": "code",
   "execution_count": 18,
   "id": "35581443",
   "metadata": {},
   "outputs": [
    {
     "name": "stdout",
     "output_type": "stream",
     "text": [
      "name='John' age=30 allergies=['Penicillin', 'Peanuts'] medical_records={'2023-01-01': 'Flu', '2024-05-10': 'Checkup'}\n"
     ]
    }
   ],
   "source": [
    "from pydantic import BaseModel\n",
    "from typing import List, Dict, Optional\n",
    "\n",
    "class Patient(BaseModel):  # Must inherit from BaseModel\n",
    "    name: str\n",
    "    age: int\n",
    "    allergies: List[str] = []  # Example list\n",
    "    medical_records: Dict[str, str] = {}  # Example dictionary\n",
    "\n",
    "\n",
    "# Example usage\n",
    "patient1 = Patient(\n",
    "    name=\"John\",\n",
    "    age=30,\n",
    "    allergies=[\"Penicillin\", \"Peanuts\"],\n",
    "    medical_records={\"2023-01-01\": \"Flu\", \"2024-05-10\": \"Checkup\"}\n",
    ")\n",
    "\n",
    "print(patient1)\n"
   ]
  },
  {
   "cell_type": "markdown",
   "id": "85241b61",
   "metadata": {},
   "source": [
    "# Chapter 4:\n",
    "\n",
    "* What happens if a field is missing?\n",
    "* What if we don’t mark it `Optional`?\n",
    "* What if we give a default value vs. no default?\n",
    "* Does Pydantic raise an error or silently fill?\n",
    "---\n",
    "\n",
    "## Chapter 4: **Optional Fields and Defaults**\n",
    "\n",
    "## 1. Theory: Handling Missing Data\n",
    "\n",
    "In real-world applications, **not all fields are always provided**.\n",
    "For example, in a hospital system:\n",
    "\n",
    "* Some fields are **mandatory** (name, age).\n",
    "* Some fields are **optional** (phone, secondary email).\n",
    "* Some fields may have a **default value** (country=\"Pakistan\" if not given).\n",
    "\n",
    "👉 **Pydantic gives us full control** using:\n",
    "\n",
    "* `Optional[...]` for optional fields.\n",
    "* `=` (assignment) for default values.\n",
    "* Combination of both."
   ]
  },
  {
   "cell_type": "markdown",
   "id": "bb67d5a9",
   "metadata": {},
   "source": [
    "## 2. Case 1 – Required Field (No Default)"
   ]
  },
  {
   "cell_type": "markdown",
   "id": "78d250b2",
   "metadata": {},
   "source": [
    "## Required Fields Error Example\n",
    "\n",
    "👉\n",
    "\n",
    "> ✔ **Important:** If a field has **no default** and is **not Optional**,\n",
    "> Pydantic **forces you to provide it**."
   ]
  },
  {
   "cell_type": "code",
   "execution_count": null,
   "id": "e50357d1",
   "metadata": {},
   "outputs": [],
   "source": [
    "from pydantic import BaseModel\n",
    "\n",
    "class Patient(BaseModel):\n",
    "    name: str\n",
    "    age: int\n",
    "\n",
    "# ❌ Missing \"age\"\n",
    "patient = Patient(name=\"Ali\")"
   ]
  },
  {
   "cell_type": "markdown",
   "id": "b549b0c5",
   "metadata": {},
   "source": [
    "## 3. Case 2 –  Field With Default"
   ]
  },
  {
   "cell_type": "code",
   "execution_count": 25,
   "id": "06264451",
   "metadata": {},
   "outputs": [
    {
     "name": "stdout",
     "output_type": "stream",
     "text": [
      "name='Ali' age=30\n"
     ]
    }
   ],
   "source": [
    "from typing import Optional\n",
    "from pydantic import BaseModel\n",
    "\n",
    "class Patient(BaseModel):\n",
    "    name: str\n",
    "    age: int =30     # Field With Default\n",
    "\n",
    "# ❌ Missing \"phone\"\n",
    "patient = Patient(name=\"Ali\")\n",
    "print(patient)"
   ]
  },
  {
   "cell_type": "markdown",
   "id": "6660dd53",
   "metadata": {},
   "source": [
    "## Case 3 – Optional Fields with Default Values\n",
    "\n",
    "### Using `None` as Default\n",
    "\n",
    "> **Key Points:**\n",
    "> When you make a field `Optional` with a default value of `None`:\n",
    "> * Can be omitted when creating the object\n",
    "> * Will automatically be set to `None` if not provided\n",
    "> * Can explicitly receive `None` as a value\n",
    "> * If user provides a value, it will use the user's value instead of the default\n",
    ">\n",
    "> ```python\n",
    "> # Example:\n",
    "> patient1 = Patient(name=\"Ali\", age=30)  # phone will be None (default)\n",
    "> patient2 = Patient(name=\"Sara\", age=25, phone=\"123-456-7890\")  # phone will be \"123-456-7890\" (user value)\n",
    "> ```"
   ]
  },
  {
   "cell_type": "code",
   "execution_count": null,
   "id": "656a9676",
   "metadata": {},
   "outputs": [
    {
     "name": "stdout",
     "output_type": "stream",
     "text": [
      "name='Ali' age=30 phone='9'\n"
     ]
    }
   ],
   "source": [
    "from typing import Optional\n",
    "from pydantic import BaseModel\n",
    "\n",
    "class Patient(BaseModel):\n",
    "    name: str\n",
    "    age: int\n",
    "    phone: Optional[str] =None\n",
    "\n",
    "# ❌ Missing \"phone\"\n",
    "patient = Patient(name=\"Ali\", age=30)\n",
    "print(patient)\n"
   ]
  },
  {
   "cell_type": "markdown",
   "id": "aae177f8",
   "metadata": {},
   "source": [
    "# Chapter 5: Advanced Data Validation\n",
    "\n",
    "## Theory:  Basic Types Aren't Enough\n",
    "\n",
    "Just checking `str` or `int` isn't enough for real-world data validation:\n",
    "\n",
    "* ✉️ Email needs proper format validation (`user@domain.com`)\n",
    "* 🔢 Age must be a positive number (can't be -30)\n",
    "* 📱 Phone numbers need pattern matching (`xxx-xxx-xxxx`)\n",
    "* 📝 Names should be proper case\n",
    "\n",
    "> **Key Point:** Pydantic provides specialized validators and tools for real-world data requirements."
   ]
  },
  {
   "cell_type": "code",
   "execution_count": null,
   "id": "1c500c94",
   "metadata": {},
   "outputs": [
    {
     "name": "stdout",
     "output_type": "stream",
     "text": [
      "Invalid email format!\n"
     ]
    }
   ],
   "source": [
    "from pydantic import BaseModel, EmailStr ,ValidationError\n",
    "\n",
    "class Patient(BaseModel):\n",
    "    name: str\n",
    "    age: int\n",
    "    email: EmailStr  # Validates email format automatically\n",
    "\n",
    "# This works\n",
    "patient1 = Patient(name=\"John\", age=30, email=\"john@gmail.com\")\n",
    "\n",
    "# This fails - invalid email \n",
    "try:\n",
    "    patient2 = Patient(name=\"Bob\", age=25, email=\"not-an-email\")\n",
    "except ValidationError:\n",
    "    print(\"Invalid email format!\")"
   ]
  },
  {
   "cell_type": "markdown",
   "id": "b0e1b412",
   "metadata": {},
   "source": [
    "### Chapter 5: Field \n",
    "**Field (Custom Validation(Constraints)+metadata+default value )**\n",
    "## 1. Why Do We Need `Field()`?\n",
    "\n",
    "Using **type hints** with `BaseModel` gives us basic validation,  \n",
    "but real-world applications usually require **stricter rules**:\n",
    "\n",
    "- ✅ Numbers should be **positive** or within a certain **range**  \n",
    "- ✅ Strings may need a **regex pattern** or specific **length limits**  \n",
    "- ✅ Default values should still go through validation  \n",
    "- ✅ Fields might need **aliases** (different names pointing to the same value)\n",
    "\n",
    "👉 That’s where `Field()` helps.  \n",
    "It lets us attach **extra metadata**,**description** and **validation rules** directly to model fields.\n",
    "\n",
    "---\n",
    "\n"
   ]
  },
  {
   "cell_type": "markdown",
   "id": "a6b00898",
   "metadata": {},
   "source": [
    "## 2. Default Values with Field()\n",
    "\n",
    "### Two ways to provide defaults:\n",
    "**Default values for fields can be provided using the normal assignment syntax or by providing a value to the default argument:**"
   ]
  },
  {
   "cell_type": "code",
   "execution_count": 2,
   "id": "41115c52",
   "metadata": {},
   "outputs": [
    {
     "name": "stdout",
     "output_type": "stream",
     "text": [
      "name='John' age=20\n"
     ]
    }
   ],
   "source": [
    "from pydantic import BaseModel, Field\n",
    "\n",
    "class User(BaseModel):\n",
    "    name: str = \"John\"                # normal default\n",
    "    age: int = Field(default=20)      # Field default\n",
    "\n",
    "print(User())  \n",
    "# name='John' age=20\n"
   ]
  },
  {
   "cell_type": "markdown",
   "id": "c00aad55",
   "metadata": {},
   "source": [
    "🔑 Difference:\n",
    "\n",
    "* `= \"John\"` is shorthand, good for simple cases.\n",
    "* `Field(default=20)` is more powerful → because later we can add constraints (e.g., `ge=0`) alongside."
   ]
  },
  {
   "cell_type": "markdown",
   "id": "9993092b",
   "metadata": {},
   "source": [
    "## 3. Validating Default Values\n",
    "\n",
    "By default, Pydantic does **not check if defaults are given**.\n",
    "To enforce it, use `validate_default=True`.\n",
    "\n",
    "\n",
    "👉 Without `validate_default=True`, this would silently keep `\"twelve\"`.\n",
    "👉 With it, Pydantic raises error immediately.\n",
    "\n",
    "---"
   ]
  },
  {
   "cell_type": "code",
   "execution_count": 3,
   "id": "6edbd3f9",
   "metadata": {},
   "outputs": [
    {
     "name": "stdout",
     "output_type": "stream",
     "text": [
      "1 validation error for User\n",
      "age\n",
      "  Input should be a valid integer, unable to parse string as an integer [type=int_parsing, input_value='twelve', input_type=str]\n",
      "    For further information visit https://errors.pydantic.dev/2.11/v/int_parsing\n"
     ]
    }
   ],
   "source": [
    "from pydantic import BaseModel, Field, ValidationError\n",
    "\n",
    "class User(BaseModel):\n",
    "    age: int = Field(default=\"twelve\", validate_default=True)\n",
    "\n",
    "try:\n",
    "    User()\n",
    "except ValidationError as e:\n",
    "    print(e)"
   ]
  },
  {
   "cell_type": "markdown",
   "id": "88611b69",
   "metadata": {},
   "source": [
    "## 🌐 4. Aliases (Renaming Fields) \n",
    "\n",
    "In real-world projects, **data often comes from different sources** — API, database, frontend, etc.\n",
    "But each source might use **different field names** for the same concept.\n",
    "\n",
    "* API sends: `username`\n",
    "* Database column: `user_name`\n",
    "* Internal Python code: `name`\n",
    "\n",
    "Without aliases, you’d have to **rename fields manually everywhere**, which is messy and error-prone.\n",
    "\n",
    "---\n",
    "\n",
    "## ✅ The Solution: `alias`\n",
    "\n",
    "Pydantic’s `Field(alias=...)` tells the model:\n",
    "*\"If incoming data uses this alias, map it to my internal field name.\"*"
   ]
  },
  {
   "cell_type": "code",
   "execution_count": 5,
   "id": "9dd41ac5",
   "metadata": {},
   "outputs": [
    {
     "name": "stdout",
     "output_type": "stream",
     "text": [
      "khalil\n",
      "{'username': 'khalil'}\n"
     ]
    }
   ],
   "source": [
    "from pydantic import BaseModel, Field\n",
    "\n",
    "class User(BaseModel):\n",
    "    name: str = Field(alias=\"username\")\n",
    "\n",
    "# Incoming API request\n",
    "user = User(username=\"khalil\")\n",
    "\n",
    "print(user.name)   # internal clean name -> 'khalil'\n",
    "print(user.model_dump(by_alias=True))  # {'username': 'khalil'}"
   ]
  },
  {
   "cell_type": "markdown",
   "id": "101a9de4",
   "metadata": {},
   "source": [
    "* **Input:** Accepts external data with `username`.\n",
    "* **Internal:** You work with `name` in Python code (clean, consistent).\n",
    "* **Output:** You can return `username` back to API if needed.\n",
    "\n",
    "---\n",
    "\n",
    "## 🚀 Where We Need It\n",
    "\n",
    "1. **FastAPI Requests & Responses**\n",
    "\n",
    "   * API clients might send `user_id`, but your internal model uses `id`.\n",
    "   * Response JSON might need `fullName`, but you keep it as `full_name`.\n",
    "\n",
    "2. **Database Mapping**\n",
    "\n",
    "   * DB column is `user_name`, but you want your Python field `name`.\n",
    "\n",
    "3. **Third-Party Integrations**\n",
    "\n",
    "   * External service sends fields in camelCase (`userName`) but you want snake\\_case (`user_name`).\n",
    "\n",
    "---\n",
    "\n",
    "## 🔑 Variants\n",
    "\n",
    "* `alias` → For both input & output (old default).\n",
    "* `validation_alias` → Only for **input** (validation).\n",
    "* `serialization_alias` → Only for **output** (when dumping to dict/JSON).\n",
    "\n",
    "---\n",
    "\n",
    "👉 So, **aliases solve the “different names in different places” problem**, keeping your Python code clean while still working with APIs/databases that use their own naming.\n"
   ]
  },
  {
   "cell_type": "markdown",
   "id": "e580ca6d",
   "metadata": {},
   "source": [
    "## 5. Numeric Constraints\n",
    "\n",
    "We can force conditions on numbers directly in the field:\n",
    "\n",
    "There are some keyword arguments that can be used to constrain numeric values:\n",
    "\n",
    "* gt - greater than\n",
    "* lt - less than\n",
    "* ge - greater than or equal to\n",
    "* le - less than or equal to\n",
    "* \n",
    "* `gt`, `ge`, `lt`, `le` → inequalities.\n",
    "* `multiple_of` → divisibility check.\n",
    "* `allow_inf_nan` → allow floats like `inf`,`-inf` `nan`.\n",
    "\n",
    "---"
   ]
  },
  {
   "cell_type": "code",
   "execution_count": 6,
   "id": "67adb225",
   "metadata": {},
   "outputs": [],
   "source": [
    "from pydantic import BaseModel, Field\n",
    "\n",
    "class Order(BaseModel):\n",
    "    quantity: int = Field(gt=0)          # must be > 0\n",
    "    discount: float = Field(ge=0, le=1)  # 0 <= discount <= 1\n",
    "    even_number: int = Field(multiple_of=2)"
   ]
  },
  {
   "cell_type": "markdown",
   "id": "cf585bb6",
   "metadata": {},
   "source": [
    "## 6. String Constraints\n",
    "\n",
    "For text validation:\n",
    "There are fields that can be used to constrain strings:\n",
    "\n",
    "* `min_length`: Minimum length of the string.\n",
    "* `max_length`: Maximum length of the string.\n",
    "* `pattern`: A regular expression that the string must match.\n",
    "\n",
    "✔ Regex patterns are great for validating codes, phone numbers, emails"
   ]
  },
  {
   "cell_type": "code",
   "execution_count": 7,
   "id": "bb57340a",
   "metadata": {},
   "outputs": [],
   "source": [
    "class Message(BaseModel):\n",
    "    short: str = Field(min_length=3)\n",
    "    password: str = Field(min_length=8, max_length=20)\n",
    "    \n",
    "    # Code must be exactly 6 characters, only uppercase letters and numbers\n",
    "    # Example: \"ABC123\", \"12WXYZ\"\n",
    "    code: str = Field(pattern=r\"^[A-Z0-9]{6}$\")"
   ]
  },
  {
   "cell_type": "markdown",
   "id": "8ca97e28",
   "metadata": {},
   "source": [
    "## Decimal Constraints\n",
    "\n",
    "There are fields that can be used to constrain `Decimal` values:\n",
    "\n",
    "* `max_digits`: Maximum number of digits within the Decimal\n",
    "  * Does not include a zero before the decimal point\n",
    "  * Does not include trailing decimal zeroes\n",
    "* `decimal_places`: Maximum number of decimal places allowed\n",
    "  * Does not include trailing decimal zeroes\n",
    "\n",
    "\n"
   ]
  },
  {
   "cell_type": "code",
   "execution_count": 11,
   "id": "5d1cae4e",
   "metadata": {},
   "outputs": [
    {
     "name": "stdout",
     "output_type": "stream",
     "text": [
      "precise=Decimal('123.45')\n"
     ]
    }
   ],
   "source": [
    "from decimal import Decimal\n",
    "from pydantic import BaseModel, Field\n",
    "\n",
    "class Foo(BaseModel):\n",
    "    # Maximum 5 digits total, with 2 decimal places\n",
    "    # Valid: \"123.45\", \"99.99\", \"1.23\"\n",
    "    # Invalid: \"1234.56\" (too many digits), \"123.456\" (too many decimal places)\n",
    "    precise: Decimal = Field(max_digits=5, decimal_places=2)\n",
    "\n",
    "# This works\n",
    "foo = Foo(precise=Decimal('123.45'))\n",
    "print(foo)\n",
    "#> precise=Decimal('123.45')"
   ]
  },
  {
   "cell_type": "code",
   "execution_count": 9,
   "id": "038d2746",
   "metadata": {},
   "outputs": [
    {
     "name": "stdout",
     "output_type": "stream",
     "text": [
      "123.45\n"
     ]
    }
   ],
   "source": [
    "from decimal import Decimal\n",
    "\n",
    "class Price(BaseModel):\n",
    "    value: Decimal = Field(max_digits=5, decimal_places=2)\n",
    "\n",
    "p = Price(value=\"123.45\")  \n",
    "print(p.value)  # Decimal('123.45')\n"
   ]
  },
  {
   "cell_type": "markdown",
   "id": "04119928",
   "metadata": {},
   "source": [
    "> **Note:** This is particularly useful for financial calculations where you need to control the precision of"
   ]
  },
  {
   "cell_type": "markdown",
   "id": "6fb2eb17",
   "metadata": {},
   "source": [
    "## 1️⃣ What is `Annotated`?\n",
    "\n",
    "`Annotated` (from `typing`) lets us **attach extra metadata** to a type hint.\n",
    "In Pydantic, we usually attach a `Field(...)` to a type using `Annotated`.\n",
    "\n",
    "Example (simple field with constraints):"
   ]
  },
  {
   "cell_type": "code",
   "execution_count": 12,
   "id": "ac48ad17",
   "metadata": {},
   "outputs": [],
   "source": [
    "from typing import Annotated\n",
    "from pydantic import BaseModel, Field\n",
    "\n",
    "class User(BaseModel):\n",
    "    age: Annotated[int, Field(ge=0, le=120)]"
   ]
  },
  {
   "cell_type": "markdown",
   "id": "04d1a748",
   "metadata": {},
   "source": [
    "**✔ Here, `age` must be between 0 and 120.**\n",
    "\n",
    "**Without `Annotated`, we could only write:**\n",
    "```python\n",
    "age: int = Field(ge=0, le=120)\n",
    "```\n",
    "\n",
    "> **Note:** While this works, using `Annotated` is the more modern and flexible approach, especially when working with complex types."
   ]
  },
  {
   "cell_type": "markdown",
   "id": "6544f627",
   "metadata": {},
   "source": [
    "**But **`Annotated` is more powerful** → it works with nested/compound types.**"
   ]
  },
  {
   "cell_type": "markdown",
   "id": "f8f38cb4",
   "metadata": {},
   "source": [
    "## 2️⃣ `Annotated` with Metadata\n",
    "\n",
    "**You can also attach extra metadata (like description, title, JSON schema).**\n"
   ]
  },
  {
   "cell_type": "code",
   "execution_count": 13,
   "id": "16ea6387",
   "metadata": {},
   "outputs": [],
   "source": [
    "from typing import Annotated\n",
    "from pydantic import BaseModel, Field\n",
    "\n",
    "class Product(BaseModel):\n",
    "    name: Annotated[str, Field(description=\"The product name\", min_length=3)]\n",
    "    price: Annotated[float, Field(gt=0, description=\"Must be positive\")]"
   ]
  },
  {
   "cell_type": "markdown",
   "id": "9b9ef6b2",
   "metadata": {},
   "source": [
    "**✔ This metadata is useful in **FastAPI docs**, OpenAPI schema, and auto-generated forms.**"
   ]
  },
  {
   "cell_type": "markdown",
   "id": "8f4c33eb",
   "metadata": {},
   "source": [
    "## 3️⃣ `Annotated` inside Compound Types (Lists, Sets, etc.)\n",
    "\n",
    "This is the **big use case**: applying constraints to items inside a list/set.\n",
    "\n",
    "### Example: Marks in a List"
   ]
  },
  {
   "cell_type": "code",
   "execution_count": null,
   "id": "5ddd1b45",
   "metadata": {},
   "outputs": [],
   "source": [
    "from typing import Annotated\n",
    "from pydantic import BaseModel, Field\n",
    "\n",
    "class Scores(BaseModel):\n",
    "    # Each mark must be between 0 and 100\n",
    "    marks: list[Annotated[int, Field(ge=0, le=100)]]\n",
    "```\n",
    "\n",
    "Test it:\n",
    "\n",
    "```python\n",
    "Scores(marks=[90, 50, 101])\n",
    "# ❌ ValidationError: value 101 not <= 100"
   ]
  },
  {
   "cell_type": "markdown",
   "id": "80654dd9",
   "metadata": {},
   "source": [
    "\n",
    "✔ Every element in the list gets validated individually.\n",
    "Without `Annotated`, you’d only validate the **list as a whole**, not its items.\n",
    "\n",
    "---\n",
    "\n",
    "## ✅ Why This is Useful?\n",
    "\n",
    "* **Without Annotated**: you can constrain `list` length, but not each item.\n",
    "* **With Annotated**: you can say “this list must contain valid items, and each item has its own constraints.”\n",
    "\n",
    "---\n",
    "\n",
    "🔑 **Summary:**\n",
    "\n",
    "* `Annotated` = attach metadata/constraints to a type.\n",
    "* Works with single fields (`int`, `str`, `float`) or compound (`list`, `dict`).\n",
    "* Helps generate rich API docs (description, schema).\n",
    "* Solves the problem of **validating items inside lists/sets**.\n",
    "\n",
    "---"
   ]
  },
  {
   "cell_type": "markdown",
   "id": "6af664d9",
   "metadata": {},
   "source": [
    "# Chapter 5: Field Constraints & Strict Mode\n",
    "\n",
    "## 1. Why Do We Need Field()?\n",
    "\n",
    "Type hints + BaseModel already give us basic validation. But in real applications, we often need **extra rules**:\n",
    "\n",
    "- **Age must be positive** (not just an integer)\n",
    "- **Email must follow specific domain** (like only @company.com)\n",
    "- **Password must have minimum length**\n",
    "- **Price must be greater than 0**\n",
    "\n",
    "**Problem:** Basic type hints can't handle these business rules.\n",
    "\n",
    "**Solution:** Use `Field()` function to add constraints!\n",
    "\n",
    "---\n",
    "\n",
    "## 2. Default Values with Field()\n",
    "\n",
    "### Basic Default Values\n",
    "```python\n",
    "from pydantic import BaseModel, Field\n",
    "\n",
    "class User(BaseModel):\n",
    "    # Two ways to set defaults:\n",
    "    name: str = 'John Doe'           # Normal assignment\n",
    "    age: int = Field(default=20)     # Using Field()\n",
    "    \n",
    "user = User()  # No input needed\n",
    "print(user)\n",
    "# Output: name='John Doe' age=20\n",
    "```\n",
    "\n",
    "### Validate Default Values\n",
    "By default, Pydantic **doesn't validate** default values. Enable it with `validate_default=True`:\n",
    "\n",
    "```python\n",
    "from pydantic import BaseModel, Field, ValidationError\n",
    "\n",
    "class User(BaseModel):\n",
    "    # This default is invalid (string instead of int)\n",
    "    age: int = Field(default='twelve', validate_default=True)\n",
    "\n",
    "try:\n",
    "    user = User()  # This will fail!\n",
    "except ValidationError as e:\n",
    "    print(\"Error: Default value 'twelve' is not a valid integer\")\n",
    "```\n",
    "\n",
    "---\n",
    "\n",
    "## 3. Numeric Constraints\n",
    "\n",
    "Control numeric values with these parameters:\n",
    "\n",
    "- `gt` - greater than\n",
    "- `lt` - less than  \n",
    "- `ge` - greater than or equal to\n",
    "- `le` - less than or equal to\n",
    "- `multiple_of` - must be a multiple of given number\n",
    "- `allow_inf_nan` - allow infinity/NaN values\n",
    "\n",
    "```python\n",
    "from pydantic import BaseModel, Field\n",
    "\n",
    "class Product(BaseModel):\n",
    "    price: float = Field(gt=0)                    # Must be > 0\n",
    "    discount: int = Field(ge=0, le=100)           # 0-100%\n",
    "    quantity: int = Field(multiple_of=5)          # Must be 5, 10, 15...\n",
    "    rating: float = Field(ge=1.0, le=5.0)        # 1-5 stars\n",
    "    \n",
    "# This works\n",
    "product = Product(price=99.99, discount=20, quantity=10, rating=4.5)\n",
    "\n",
    "# This fails - price can't be 0\n",
    "try:\n",
    "    bad_product = Product(price=0, discount=20, quantity=10, rating=4.5)\n",
    "except ValidationError:\n",
    "    print(\"Price must be greater than 0!\")\n",
    "```\n",
    "\n",
    "---\n",
    "\n",
    "## 4. String Constraints\n",
    "\n",
    "Control string values with:\n",
    "\n",
    "- `min_length` - minimum characters\n",
    "- `max_length` - maximum characters  \n",
    "- `pattern` - regex pattern to match\n",
    "\n",
    "```python\n",
    "from pydantic import BaseModel, Field\n",
    "\n",
    "class UserAccount(BaseModel):\n",
    "    username: str = Field(min_length=3, max_length=20)\n",
    "    password: str = Field(min_length=8)\n",
    "    phone: str = Field(pattern=r'^\\d{10}$')  # Exactly 10 digits\n",
    "    \n",
    "# This works\n",
    "user = UserAccount(\n",
    "    username=\"john_doe\", \n",
    "    password=\"secure123\", \n",
    "    phone=\"1234567890\"\n",
    ")\n",
    "\n",
    "# This fails - username too short\n",
    "try:\n",
    "    bad_user = UserAccount(username=\"jo\", password=\"secure123\", phone=\"1234567890\")\n",
    "except ValidationError:\n",
    "    print(\"Username must be at least 3 characters!\")\n",
    "```\n",
    "\n",
    "---\n",
    "\n",
    "## 5. Field Aliases\n",
    "\n",
    "Sometimes the field name in your code differs from the input/output name:\n",
    "\n",
    "### Basic Alias (for both input and output)\n",
    "```python\n",
    "from pydantic import BaseModel, Field\n",
    "\n",
    "class User(BaseModel):\n",
    "    name: str = Field(alias='username')\n",
    "\n",
    "# Input uses alias\n",
    "user = User(username='johndoe')  \n",
    "print(user.name)  # Access using field name\n",
    "# Output: johndoe\n",
    "\n",
    "# Output can use alias\n",
    "print(user.model_dump(by_alias=True))\n",
    "# Output: {'username': 'johndoe'}\n",
    "```\n",
    "\n",
    "### Separate Aliases for Input/Output\n",
    "```python\n",
    "class User(BaseModel):\n",
    "    name: str = Field(\n",
    "        validation_alias='input_name',      # For input\n",
    "        serialization_alias='output_name'   # For output\n",
    "    )\n",
    "\n",
    "# Input\n",
    "user = User(input_name='johndoe')\n",
    "\n",
    "# Output  \n",
    "print(user.model_dump(by_alias=True))\n",
    "# Output: {'output_name': 'johndoe'}\n",
    "```\n",
    "\n",
    "---\n",
    "\n",
    "## 6. Real-World Example: Patient Registration\n",
    "\n",
    "```python\n",
    "from pydantic import BaseModel, Field, EmailStr\n",
    "from typing import Optional\n",
    "\n",
    "class Patient(BaseModel):\n",
    "    # Name constraints\n",
    "    full_name: str = Field(\n",
    "        min_length=2, \n",
    "        max_length=100,\n",
    "        alias='patient_name'\n",
    "    )\n",
    "    \n",
    "    # Age constraints  \n",
    "    age: int = Field(ge=0, le=150)\n",
    "    \n",
    "    # Email with domain restriction\n",
    "    email: EmailStr = Field(pattern=r'.*@hospital\\.com$')\n",
    "    \n",
    "    # Phone number format\n",
    "    phone: str = Field(pattern=r'^\\+?1?\\d{9,15}$')\n",
    "    \n",
    "    # Emergency contact (optional)\n",
    "    emergency_contact: Optional[str] = Field(\n",
    "        default=None,\n",
    "        min_length=10\n",
    "    )\n",
    "    \n",
    "    # Insurance ID\n",
    "    insurance_id: str = Field(\n",
    "        min_length=8,\n",
    "        max_length=20,\n",
    "        pattern=r'^INS\\d+$'  # Must start with 'INS' followed by numbers\n",
    "    )\n",
    "\n",
    "# Valid patient\n",
    "patient = Patient(\n",
    "    patient_name=\"John Smith\",\n",
    "    age=35,\n",
    "    email=\"john.smith@hospital.com\",\n",
    "    phone=\"+1234567890\",\n",
    "    insurance_id=\"INS12345678\"\n",
    ")\n",
    "\n",
    "print(\"Patient registered successfully!\")\n",
    "```\n",
    "\n",
    "---\n",
    "\n",
    "## 7. Strict Mode\n",
    "\n",
    "By default, Pydantic tries to **convert** values to the correct type:\n",
    "\n",
    "```python\n",
    "# Normal (Lax) Mode - Auto conversion\n",
    "class User(BaseModel):\n",
    "    age: int\n",
    "    score: float\n",
    "\n",
    "# These work - strings get converted\n",
    "user1 = User(age=\"30\", score=\"95.5\")  # ✅ Converts to int/float\n",
    "print(user1)  # age=30 score=95.5\n",
    "```\n",
    "\n",
    "But sometimes you want **exact types only**:\n",
    "\n",
    "### Enable Strict Mode\n",
    "\n",
    "**Option 1: Per Model**\n",
    "```python\n",
    "class StrictUser(BaseModel):\n",
    "    model_config = {\"strict\": True}\n",
    "    \n",
    "    age: int\n",
    "    score: float\n",
    "\n",
    "# This fails - no auto conversion\n",
    "try:\n",
    "    user = StrictUser(age=\"30\", score=\"95.5\")\n",
    "except ValidationError:\n",
    "    print(\"Strict mode: strings not allowed for numbers!\")\n",
    "```\n",
    "\n",
    "**Option 2: Per Field**\n",
    "```python\n",
    "class MixedUser(BaseModel):\n",
    "    age: int = Field(strict=True)      # Must be exact int\n",
    "    name: str                          # Can convert to string\n",
    "    \n",
    "# This fails\n",
    "try:\n",
    "    user = MixedUser(age=\"30\", name=\"John\")\n",
    "except ValidationError:\n",
    "    print(\"Age must be exact integer, not string!\")\n",
    "```\n",
    "\n",
    "**Option 3: Per Validation Call**\n",
    "```python\n",
    "class User(BaseModel):\n",
    "    age: int\n",
    "    \n",
    "# Normal validation (with conversion)\n",
    "user1 = User(age=\"30\")  # ✅ Works\n",
    "\n",
    "# Strict validation (no conversion)  \n",
    "try:\n",
    "    user2 = User.model_validate({\"age\": \"30\"}, strict=True)\n",
    "except ValidationError:\n",
    "    print(\"Strict validation: no conversion allowed!\")\n",
    "```\n",
    "\n",
    "---\n",
    "\n",
    "## 8. When to Use Strict Mode\n",
    "\n",
    "**Use Strict Mode When:**\n",
    "- Working with APIs where exact types are critical\n",
    "- Parsing configuration files \n",
    "- Processing financial data (no accidental conversions)\n",
    "- You want to catch type errors early\n",
    "\n",
    "**Use Lax Mode When:**\n",
    "- Processing user input (forms, URLs)\n",
    "- Reading from databases or files\n",
    "- Working with external APIs that might return inconsistent types\n",
    "\n",
    "---\n",
    "\n",
    "## 9. Key Takeaways\n",
    "\n",
    "1. **Field() adds business rules** beyond basic type checking\n",
    "2. **Numeric constraints** control ranges and multiples  \n",
    "3. **String constraints** control length and format\n",
    "4. **Aliases** separate internal names from external APIs\n",
    "5. **Strict mode** disables auto-conversion for exact type matching\n",
    "6. **Choose the right mode** based on your data source and requirements\n",
    "\n",
    "**Next:** We'll explore Field Validators for custom validation logic and data transformation!"
   ]
  },
  {
   "cell_type": "markdown",
   "id": "aa073629",
   "metadata": {},
   "source": []
  }
 ],
 "metadata": {
  "kernelspec": {
   "display_name": "Gen_ai",
   "language": "python",
   "name": "python3"
  },
  "language_info": {
   "codemirror_mode": {
    "name": "ipython",
    "version": 3
   },
   "file_extension": ".py",
   "mimetype": "text/x-python",
   "name": "python",
   "nbconvert_exporter": "python",
   "pygments_lexer": "ipython3",
   "version": "3.12.11"
  }
 },
 "nbformat": 4,
 "nbformat_minor": 5
}
